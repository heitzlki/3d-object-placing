{
 "cells": [
  {
   "cell_type": "code",
   "execution_count": 1,
   "id": "b9ad93f6",
   "metadata": {},
   "outputs": [
    {
     "name": "stdout",
     "output_type": "stream",
     "text": [
      "Requirement already satisfied: numpy-stl in /home/heitzlki/jupyter-env/lib64/python3.11/site-packages (3.0.1)\n",
      "Requirement already satisfied: matplotlib in /home/heitzlki/jupyter-env/lib64/python3.11/site-packages (3.7.1)\n",
      "Requirement already satisfied: ipympl in /home/heitzlki/jupyter-env/lib64/python3.11/site-packages (0.9.3)\n",
      "Requirement already satisfied: numpy in /home/heitzlki/jupyter-env/lib64/python3.11/site-packages (from numpy-stl) (1.23.5)\n",
      "Requirement already satisfied: python-utils>=3.4.5 in /home/heitzlki/jupyter-env/lib64/python3.11/site-packages (from numpy-stl) (3.6.0)\n",
      "Requirement already satisfied: contourpy>=1.0.1 in /home/heitzlki/jupyter-env/lib64/python3.11/site-packages (from matplotlib) (1.0.7)\n",
      "Requirement already satisfied: cycler>=0.10 in /home/heitzlki/jupyter-env/lib64/python3.11/site-packages (from matplotlib) (0.11.0)\n",
      "Requirement already satisfied: fonttools>=4.22.0 in /home/heitzlki/jupyter-env/lib64/python3.11/site-packages (from matplotlib) (4.39.4)\n",
      "Requirement already satisfied: kiwisolver>=1.0.1 in /home/heitzlki/jupyter-env/lib64/python3.11/site-packages (from matplotlib) (1.4.4)\n",
      "Requirement already satisfied: packaging>=20.0 in /home/heitzlki/jupyter-env/lib64/python3.11/site-packages (from matplotlib) (23.1)\n",
      "Requirement already satisfied: pillow>=6.2.0 in /home/heitzlki/jupyter-env/lib64/python3.11/site-packages (from matplotlib) (9.5.0)\n",
      "Requirement already satisfied: pyparsing>=2.3.1 in /home/heitzlki/jupyter-env/lib64/python3.11/site-packages (from matplotlib) (3.0.9)\n",
      "Requirement already satisfied: python-dateutil>=2.7 in /home/heitzlki/jupyter-env/lib64/python3.11/site-packages (from matplotlib) (2.8.2)\n",
      "Requirement already satisfied: ipython<9 in /home/heitzlki/jupyter-env/lib64/python3.11/site-packages (from ipympl) (8.14.0)\n",
      "Requirement already satisfied: ipython-genutils in /home/heitzlki/jupyter-env/lib64/python3.11/site-packages (from ipympl) (0.2.0)\n",
      "Requirement already satisfied: traitlets<6 in /home/heitzlki/jupyter-env/lib64/python3.11/site-packages (from ipympl) (5.9.0)\n",
      "Requirement already satisfied: ipywidgets<9,>=7.6.0 in /home/heitzlki/jupyter-env/lib64/python3.11/site-packages (from ipympl) (8.0.6)\n",
      "Requirement already satisfied: backcall in /home/heitzlki/jupyter-env/lib64/python3.11/site-packages (from ipython<9->ipympl) (0.2.0)\n",
      "Requirement already satisfied: decorator in /home/heitzlki/jupyter-env/lib64/python3.11/site-packages (from ipython<9->ipympl) (5.1.1)\n",
      "Requirement already satisfied: jedi>=0.16 in /home/heitzlki/jupyter-env/lib64/python3.11/site-packages (from ipython<9->ipympl) (0.18.2)\n",
      "Requirement already satisfied: matplotlib-inline in /home/heitzlki/jupyter-env/lib64/python3.11/site-packages (from ipython<9->ipympl) (0.1.6)\n",
      "Requirement already satisfied: pickleshare in /home/heitzlki/jupyter-env/lib64/python3.11/site-packages (from ipython<9->ipympl) (0.7.5)\n",
      "Requirement already satisfied: prompt-toolkit!=3.0.37,<3.1.0,>=3.0.30 in /home/heitzlki/jupyter-env/lib64/python3.11/site-packages (from ipython<9->ipympl) (3.0.38)\n",
      "Requirement already satisfied: pygments>=2.4.0 in /home/heitzlki/jupyter-env/lib64/python3.11/site-packages (from ipython<9->ipympl) (2.15.1)\n",
      "Requirement already satisfied: stack-data in /home/heitzlki/jupyter-env/lib64/python3.11/site-packages (from ipython<9->ipympl) (0.6.2)\n",
      "Requirement already satisfied: pexpect>4.3 in /home/heitzlki/jupyter-env/lib64/python3.11/site-packages (from ipython<9->ipympl) (4.8.0)\n",
      "Requirement already satisfied: ipykernel>=4.5.1 in /home/heitzlki/jupyter-env/lib64/python3.11/site-packages (from ipywidgets<9,>=7.6.0->ipympl) (6.23.1)\n",
      "Requirement already satisfied: widgetsnbextension~=4.0.7 in /home/heitzlki/jupyter-env/lib64/python3.11/site-packages (from ipywidgets<9,>=7.6.0->ipympl) (4.0.7)\n",
      "Requirement already satisfied: jupyterlab-widgets~=3.0.7 in /home/heitzlki/jupyter-env/lib64/python3.11/site-packages (from ipywidgets<9,>=7.6.0->ipympl) (3.0.7)\n",
      "Requirement already satisfied: six>=1.5 in /home/heitzlki/jupyter-env/lib64/python3.11/site-packages (from python-dateutil>=2.7->matplotlib) (1.16.0)\n",
      "Requirement already satisfied: typing-extensions in /home/heitzlki/jupyter-env/lib64/python3.11/site-packages (from python-utils>=3.4.5->numpy-stl) (4.6.3)\n",
      "Requirement already satisfied: comm>=0.1.1 in /home/heitzlki/jupyter-env/lib64/python3.11/site-packages (from ipykernel>=4.5.1->ipywidgets<9,>=7.6.0->ipympl) (0.1.3)\n",
      "Requirement already satisfied: debugpy>=1.6.5 in /home/heitzlki/jupyter-env/lib64/python3.11/site-packages (from ipykernel>=4.5.1->ipywidgets<9,>=7.6.0->ipympl) (1.6.7)\n",
      "Requirement already satisfied: jupyter-client>=6.1.12 in /home/heitzlki/jupyter-env/lib64/python3.11/site-packages (from ipykernel>=4.5.1->ipywidgets<9,>=7.6.0->ipympl) (8.2.0)\n",
      "Requirement already satisfied: jupyter-core!=5.0.*,>=4.12 in /home/heitzlki/jupyter-env/lib64/python3.11/site-packages (from ipykernel>=4.5.1->ipywidgets<9,>=7.6.0->ipympl) (5.3.0)\n",
      "Requirement already satisfied: nest-asyncio in /home/heitzlki/jupyter-env/lib64/python3.11/site-packages (from ipykernel>=4.5.1->ipywidgets<9,>=7.6.0->ipympl) (1.5.6)\n",
      "Requirement already satisfied: psutil in /home/heitzlki/jupyter-env/lib64/python3.11/site-packages (from ipykernel>=4.5.1->ipywidgets<9,>=7.6.0->ipympl) (5.9.5)\n",
      "Requirement already satisfied: pyzmq>=20 in /home/heitzlki/jupyter-env/lib64/python3.11/site-packages (from ipykernel>=4.5.1->ipywidgets<9,>=7.6.0->ipympl) (25.1.0)\n",
      "Requirement already satisfied: tornado>=6.1 in /home/heitzlki/jupyter-env/lib64/python3.11/site-packages (from ipykernel>=4.5.1->ipywidgets<9,>=7.6.0->ipympl) (6.3.2)\n",
      "Requirement already satisfied: parso<0.9.0,>=0.8.0 in /home/heitzlki/jupyter-env/lib64/python3.11/site-packages (from jedi>=0.16->ipython<9->ipympl) (0.8.3)\n",
      "Requirement already satisfied: ptyprocess>=0.5 in /home/heitzlki/jupyter-env/lib64/python3.11/site-packages (from pexpect>4.3->ipython<9->ipympl) (0.7.0)\n",
      "Requirement already satisfied: wcwidth in /home/heitzlki/jupyter-env/lib64/python3.11/site-packages (from prompt-toolkit!=3.0.37,<3.1.0,>=3.0.30->ipython<9->ipympl) (0.2.6)\n",
      "Requirement already satisfied: executing>=1.2.0 in /home/heitzlki/jupyter-env/lib64/python3.11/site-packages (from stack-data->ipython<9->ipympl) (1.2.0)\n",
      "Requirement already satisfied: asttokens>=2.1.0 in /home/heitzlki/jupyter-env/lib64/python3.11/site-packages (from stack-data->ipython<9->ipympl) (2.2.1)\n",
      "Requirement already satisfied: pure-eval in /home/heitzlki/jupyter-env/lib64/python3.11/site-packages (from stack-data->ipython<9->ipympl) (0.2.2)\n",
      "Requirement already satisfied: platformdirs>=2.5 in /home/heitzlki/jupyter-env/lib64/python3.11/site-packages (from jupyter-core!=5.0.*,>=4.12->ipykernel>=4.5.1->ipywidgets<9,>=7.6.0->ipympl) (3.5.3)\n",
      "Requirement already satisfied: ipympl in /home/heitzlki/jupyter-env/lib64/python3.11/site-packages (0.9.3)\n",
      "Requirement already satisfied: ipython<9 in /home/heitzlki/jupyter-env/lib64/python3.11/site-packages (from ipympl) (8.14.0)\n",
      "Requirement already satisfied: numpy in /home/heitzlki/jupyter-env/lib64/python3.11/site-packages (from ipympl) (1.23.5)\n",
      "Requirement already satisfied: ipython-genutils in /home/heitzlki/jupyter-env/lib64/python3.11/site-packages (from ipympl) (0.2.0)\n",
      "Requirement already satisfied: pillow in /home/heitzlki/jupyter-env/lib64/python3.11/site-packages (from ipympl) (9.5.0)\n",
      "Requirement already satisfied: traitlets<6 in /home/heitzlki/jupyter-env/lib64/python3.11/site-packages (from ipympl) (5.9.0)\n",
      "Requirement already satisfied: ipywidgets<9,>=7.6.0 in /home/heitzlki/jupyter-env/lib64/python3.11/site-packages (from ipympl) (8.0.6)\n",
      "Requirement already satisfied: matplotlib<4,>=3.4.0 in /home/heitzlki/jupyter-env/lib64/python3.11/site-packages (from ipympl) (3.7.1)\n",
      "Requirement already satisfied: backcall in /home/heitzlki/jupyter-env/lib64/python3.11/site-packages (from ipython<9->ipympl) (0.2.0)\n",
      "Requirement already satisfied: decorator in /home/heitzlki/jupyter-env/lib64/python3.11/site-packages (from ipython<9->ipympl) (5.1.1)\n",
      "Requirement already satisfied: jedi>=0.16 in /home/heitzlki/jupyter-env/lib64/python3.11/site-packages (from ipython<9->ipympl) (0.18.2)\n",
      "Requirement already satisfied: matplotlib-inline in /home/heitzlki/jupyter-env/lib64/python3.11/site-packages (from ipython<9->ipympl) (0.1.6)\n",
      "Requirement already satisfied: pickleshare in /home/heitzlki/jupyter-env/lib64/python3.11/site-packages (from ipython<9->ipympl) (0.7.5)\n",
      "Requirement already satisfied: prompt-toolkit!=3.0.37,<3.1.0,>=3.0.30 in /home/heitzlki/jupyter-env/lib64/python3.11/site-packages (from ipython<9->ipympl) (3.0.38)\n",
      "Requirement already satisfied: pygments>=2.4.0 in /home/heitzlki/jupyter-env/lib64/python3.11/site-packages (from ipython<9->ipympl) (2.15.1)\n",
      "Requirement already satisfied: stack-data in /home/heitzlki/jupyter-env/lib64/python3.11/site-packages (from ipython<9->ipympl) (0.6.2)\n",
      "Requirement already satisfied: pexpect>4.3 in /home/heitzlki/jupyter-env/lib64/python3.11/site-packages (from ipython<9->ipympl) (4.8.0)\n",
      "Requirement already satisfied: ipykernel>=4.5.1 in /home/heitzlki/jupyter-env/lib64/python3.11/site-packages (from ipywidgets<9,>=7.6.0->ipympl) (6.23.1)\n",
      "Requirement already satisfied: widgetsnbextension~=4.0.7 in /home/heitzlki/jupyter-env/lib64/python3.11/site-packages (from ipywidgets<9,>=7.6.0->ipympl) (4.0.7)\n",
      "Requirement already satisfied: jupyterlab-widgets~=3.0.7 in /home/heitzlki/jupyter-env/lib64/python3.11/site-packages (from ipywidgets<9,>=7.6.0->ipympl) (3.0.7)\n",
      "Requirement already satisfied: contourpy>=1.0.1 in /home/heitzlki/jupyter-env/lib64/python3.11/site-packages (from matplotlib<4,>=3.4.0->ipympl) (1.0.7)\n",
      "Requirement already satisfied: cycler>=0.10 in /home/heitzlki/jupyter-env/lib64/python3.11/site-packages (from matplotlib<4,>=3.4.0->ipympl) (0.11.0)\n"
     ]
    },
    {
     "name": "stdout",
     "output_type": "stream",
     "text": [
      "Requirement already satisfied: fonttools>=4.22.0 in /home/heitzlki/jupyter-env/lib64/python3.11/site-packages (from matplotlib<4,>=3.4.0->ipympl) (4.39.4)\n",
      "Requirement already satisfied: kiwisolver>=1.0.1 in /home/heitzlki/jupyter-env/lib64/python3.11/site-packages (from matplotlib<4,>=3.4.0->ipympl) (1.4.4)\n",
      "Requirement already satisfied: packaging>=20.0 in /home/heitzlki/jupyter-env/lib64/python3.11/site-packages (from matplotlib<4,>=3.4.0->ipympl) (23.1)\n",
      "Requirement already satisfied: pyparsing>=2.3.1 in /home/heitzlki/jupyter-env/lib64/python3.11/site-packages (from matplotlib<4,>=3.4.0->ipympl) (3.0.9)\n",
      "Requirement already satisfied: python-dateutil>=2.7 in /home/heitzlki/jupyter-env/lib64/python3.11/site-packages (from matplotlib<4,>=3.4.0->ipympl) (2.8.2)\n",
      "Requirement already satisfied: comm>=0.1.1 in /home/heitzlki/jupyter-env/lib64/python3.11/site-packages (from ipykernel>=4.5.1->ipywidgets<9,>=7.6.0->ipympl) (0.1.3)\n",
      "Requirement already satisfied: debugpy>=1.6.5 in /home/heitzlki/jupyter-env/lib64/python3.11/site-packages (from ipykernel>=4.5.1->ipywidgets<9,>=7.6.0->ipympl) (1.6.7)\n",
      "Requirement already satisfied: jupyter-client>=6.1.12 in /home/heitzlki/jupyter-env/lib64/python3.11/site-packages (from ipykernel>=4.5.1->ipywidgets<9,>=7.6.0->ipympl) (8.2.0)\n",
      "Requirement already satisfied: jupyter-core!=5.0.*,>=4.12 in /home/heitzlki/jupyter-env/lib64/python3.11/site-packages (from ipykernel>=4.5.1->ipywidgets<9,>=7.6.0->ipympl) (5.3.0)\n",
      "Requirement already satisfied: nest-asyncio in /home/heitzlki/jupyter-env/lib64/python3.11/site-packages (from ipykernel>=4.5.1->ipywidgets<9,>=7.6.0->ipympl) (1.5.6)\n",
      "Requirement already satisfied: psutil in /home/heitzlki/jupyter-env/lib64/python3.11/site-packages (from ipykernel>=4.5.1->ipywidgets<9,>=7.6.0->ipympl) (5.9.5)\n",
      "Requirement already satisfied: pyzmq>=20 in /home/heitzlki/jupyter-env/lib64/python3.11/site-packages (from ipykernel>=4.5.1->ipywidgets<9,>=7.6.0->ipympl) (25.1.0)\n",
      "Requirement already satisfied: tornado>=6.1 in /home/heitzlki/jupyter-env/lib64/python3.11/site-packages (from ipykernel>=4.5.1->ipywidgets<9,>=7.6.0->ipympl) (6.3.2)\n",
      "Requirement already satisfied: parso<0.9.0,>=0.8.0 in /home/heitzlki/jupyter-env/lib64/python3.11/site-packages (from jedi>=0.16->ipython<9->ipympl) (0.8.3)\n",
      "Requirement already satisfied: ptyprocess>=0.5 in /home/heitzlki/jupyter-env/lib64/python3.11/site-packages (from pexpect>4.3->ipython<9->ipympl) (0.7.0)\n",
      "Requirement already satisfied: wcwidth in /home/heitzlki/jupyter-env/lib64/python3.11/site-packages (from prompt-toolkit!=3.0.37,<3.1.0,>=3.0.30->ipython<9->ipympl) (0.2.6)\n",
      "Requirement already satisfied: six>=1.5 in /home/heitzlki/jupyter-env/lib64/python3.11/site-packages (from python-dateutil>=2.7->matplotlib<4,>=3.4.0->ipympl) (1.16.0)\n",
      "Requirement already satisfied: executing>=1.2.0 in /home/heitzlki/jupyter-env/lib64/python3.11/site-packages (from stack-data->ipython<9->ipympl) (1.2.0)\n",
      "Requirement already satisfied: asttokens>=2.1.0 in /home/heitzlki/jupyter-env/lib64/python3.11/site-packages (from stack-data->ipython<9->ipympl) (2.2.1)\n",
      "Requirement already satisfied: pure-eval in /home/heitzlki/jupyter-env/lib64/python3.11/site-packages (from stack-data->ipython<9->ipympl) (0.2.2)\n",
      "Requirement already satisfied: platformdirs>=2.5 in /home/heitzlki/jupyter-env/lib64/python3.11/site-packages (from jupyter-core!=5.0.*,>=4.12->ipykernel>=4.5.1->ipywidgets<9,>=7.6.0->ipympl) (3.5.3)\n",
      "Enabling notebook extension jupyter-matplotlib/extension...\n",
      "      - Validating: \u001b[32mOK\u001b[0m\n",
      "Requirement already satisfied: widgetsnbextension in /home/heitzlki/jupyter-env/lib64/python3.11/site-packages (4.0.7)\n",
      "Enabling notebook extension jupyter-js-widgets/extension...\n",
      "      - Validating: \u001b[32mOK\u001b[0m\n"
     ]
    }
   ],
   "source": [
    "!pip install numpy-stl matplotlib ipympl\n",
    "!pip install --upgrade ipympl\n",
    "!jupyter nbextension enable --py --sys-prefix ipympl\n",
    "!pip install widgetsnbextension\n",
    "!jupyter nbextension enable --py widgetsnbextension"
   ]
  },
  {
   "cell_type": "code",
   "execution_count": 7,
   "id": "217d7e03",
   "metadata": {},
   "outputs": [],
   "source": [
    "# %matplotlib inline\n",
    "%matplotlib widget"
   ]
  },
  {
   "cell_type": "code",
   "execution_count": 2,
   "id": "e28366cb",
   "metadata": {},
   "outputs": [],
   "source": [
    "import numpy as np\n",
    "from stl import mesh\n",
    "from mpl_toolkits import mplot3d\n",
    "import matplotlib.pyplot as plt"
   ]
  },
  {
   "cell_type": "code",
   "execution_count": 3,
   "id": "8084284b",
   "metadata": {},
   "outputs": [],
   "source": [
    "cube_mesh = mesh.Mesh.from_file('cube.stl')"
   ]
  },
  {
   "cell_type": "code",
   "execution_count": 8,
   "id": "78a6449d",
   "metadata": {},
   "outputs": [
    {
     "data": {
      "text/plain": [
       "<Figure size 640x480 with 0 Axes>"
      ]
     },
     "metadata": {},
     "output_type": "display_data"
    },
    {
     "data": {
      "text/plain": [
       "<Figure size 640x480 with 0 Axes>"
      ]
     },
     "metadata": {},
     "output_type": "display_data"
    }
   ],
   "source": [
    "figure = plt.figure()\n",
    "axes = mplot3d.Axes3D(figure)\n",
    "\n",
    "# Add the vectors to the plot\n",
    "axes.add_collection3d(mplot3d.art3d.Poly3DCollection(cube_mesh.vectors))\n",
    "\n",
    "# Auto scale to the mesh size\n",
    "scale = cube_mesh.points.flatten(\"C\")\n",
    "axes.auto_scale_xyz(scale, scale, scale)\n",
    "\n",
    "# Show the plot\n",
    "plt.show()\n"
   ]
  },
  {
   "cell_type": "code",
   "execution_count": null,
   "id": "c9ff6982",
   "metadata": {},
   "outputs": [],
   "source": []
  },
  {
   "cell_type": "code",
   "execution_count": 36,
   "id": "d7c4669b",
   "metadata": {},
   "outputs": [],
   "source": [
    "from mpl_toolkits.mplot3d import Axes3D\n",
    "import matplotlib.pyplot as plt\n",
    " \n",
    "# creating random dataset\n",
    "xs = [14, 24, 43, 47, 54, 66, 74, 89, 12,\n",
    "      44, 1, 2, 3, 4, 5, 9, 8, 7, 6, 5]\n",
    " \n",
    "ys = [0, 1, 2, 3, 4, 5, 6, 7, 8, 9, 6, 3,\n",
    "      5, 2, 4, 1, 8, 7, 0, 5]\n",
    " \n",
    "zs = [9, 6, 3, 5, 2, 4, 1, 8, 7, 0, 1, 2,\n",
    "      3, 4, 5, 6, 7, 8, 9, 0]\n",
    " \n",
    "# creating figure\n",
    "fig = plt.figure()\n",
    "ax = Axes3D(fig)\n",
    " \n",
    "# creating the plot\n",
    "plot_geeks = ax.scatter(xs, ys, zs, color='green')\n",
    " \n",
    "# setting title and labels\n",
    "ax.set_title(\"3D plot\")\n",
    "ax.set_xlabel('x-axis')\n",
    "ax.set_ylabel('y-axis')\n",
    "ax.set_zlabel('z-axis')\n",
    " \n",
    "# displaying the plot\n",
    "plt.show()"
   ]
  },
  {
   "cell_type": "code",
   "execution_count": null,
   "id": "6d046abf",
   "metadata": {},
   "outputs": [],
   "source": []
  }
 ],
 "metadata": {
  "kernelspec": {
   "display_name": "Python 3 (ipykernel)",
   "language": "python",
   "name": "python3"
  },
  "language_info": {
   "codemirror_mode": {
    "name": "ipython",
    "version": 3
   },
   "file_extension": ".py",
   "mimetype": "text/x-python",
   "name": "python",
   "nbconvert_exporter": "python",
   "pygments_lexer": "ipython3",
   "version": "3.11.3"
  }
 },
 "nbformat": 4,
 "nbformat_minor": 5
}
