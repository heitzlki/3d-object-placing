{
 "cells": [
  {
   "cell_type": "markdown",
   "metadata": {},
   "source": [
    "### ToDo\n",
    "\n",
    "- [x] read stl (binary, ascii)\n",
    "- [x] merge stl object into one file\n",
    "- [x] export stl (binar, ascii)\n",
    "- [x] stl operations (translate, (rotate, scale, resize, mirror))\n",
    "- [x] visualize stl objects\n",
    "- [ ] detect collisions (borders (AABB), SAT, triangles collisions, GJK => Performance)\n",
    "- [ ] calculate print time (slicer)\n",
    "- [ ] generate random stl objects\n",
    "- [ ] place stl objects random\n",
    "- [ ] find real stl objects\n",
    "- [ ] monte carlo algorithm"
   ]
  },
  {
   "cell_type": "code",
   "execution_count": 6,
   "metadata": {},
   "outputs": [
    {
     "name": "stdout",
     "output_type": "stream",
     "text": [
      "Requirement already satisfied: numpy in /home/heitzlki/anaconda3/lib/python3.11/site-packages (1.24.3)\n",
      "Requirement already satisfied: plotly in /home/heitzlki/anaconda3/lib/python3.11/site-packages (5.9.0)\n",
      "\u001b[31mERROR: Could not find a version that satisfies the requirement pypolycsg (from versions: none)\u001b[0m\u001b[31m\n",
      "\u001b[0m\u001b[31mERROR: No matching distribution found for pypolycsg\u001b[0m\u001b[31m\n",
      "\u001b[0mNote: you may need to restart the kernel to use updated packages.\n"
     ]
    }
   ],
   "source": [
    "%pip install numpy plotly pypolycsg"
   ]
  },
  {
   "cell_type": "code",
   "execution_count": 2,
   "metadata": {},
   "outputs": [
    {
     "name": "stdout",
     "output_type": "stream",
     "text": [
      "Faces: [[[0. 4. 6.]\n",
      "  [2. 0. 6.]\n",
      "  [2. 4. 6.]]\n",
      "\n",
      " [[2. 0. 6.]\n",
      "  [0. 4. 6.]\n",
      "  [0. 0. 6.]]\n",
      "\n",
      " [[0. 0. 0.]\n",
      "  [2. 4. 0.]\n",
      "  [2. 0. 0.]]\n",
      "\n",
      " [[2. 4. 0.]\n",
      "  [0. 0. 0.]\n",
      "  [0. 4. 0.]]\n",
      "\n",
      " [[0. 0. 0.]\n",
      "  [2. 0. 6.]\n",
      "  [0. 0. 6.]]\n",
      "\n",
      " [[2. 0. 6.]\n",
      "  [0. 0. 0.]\n",
      "  [2. 0. 0.]]\n",
      "\n",
      " [[2. 0. 6.]\n",
      "  [2. 4. 0.]\n",
      "  [2. 4. 6.]]\n",
      "\n",
      " [[2. 4. 0.]\n",
      "  [2. 0. 6.]\n",
      "  [2. 0. 0.]]\n",
      "\n",
      " [[2. 4. 0.]\n",
      "  [0. 4. 6.]\n",
      "  [2. 4. 6.]]\n",
      "\n",
      " [[0. 4. 6.]\n",
      "  [2. 4. 0.]\n",
      "  [0. 4. 0.]]\n",
      "\n",
      " [[0. 0. 0.]\n",
      "  [0. 4. 6.]\n",
      "  [0. 4. 0.]]\n",
      "\n",
      " [[0. 4. 6.]\n",
      "  [0. 0. 0.]\n",
      "  [0. 0. 6.]]]\n",
      "Vertices: [[0. 0. 0.]\n",
      " [0. 0. 6.]\n",
      " [0. 4. 0.]\n",
      " [0. 4. 6.]\n",
      " [2. 0. 0.]\n",
      " [2. 0. 6.]\n",
      " [2. 4. 0.]\n",
      " [2. 4. 6.]]\n"
     ]
    }
   ],
   "source": [
    "import struct\n",
    "import numpy as np\n",
    "\n",
    "def read_ascii_stl(filename):\n",
    "    with open(filename, 'r') as f:\n",
    "        lines = f.readlines()\n",
    "\n",
    "    vertices = []\n",
    "    for line in lines:\n",
    "        parts = line.split()\n",
    "        if len(parts) > 0 and parts[0] == 'vertex':\n",
    "            vertices.append(list(map(float, parts[1:])))\n",
    "    \n",
    "    faces = np.array(vertices).reshape((-1, 3, 3))\n",
    "    return faces, np.unique(faces.reshape(-1, 3), axis=0)\n",
    "\n",
    "def read_binary_stl(filename):\n",
    "    with open(filename, 'rb') as f:\n",
    "        header = f.read(80)\n",
    "        num_faces = struct.unpack('<I', f.read(4))[0]\n",
    "        faces = []\n",
    "        for _ in range(num_faces):\n",
    "            f.read(12)  # skip the normal vector\n",
    "            for _ in range(3):  # read and store the vertices\n",
    "                vertex = struct.unpack('<fff', f.read(12))\n",
    "                faces.append(vertex)\n",
    "            f.read(2)  # skip attribute byte count\n",
    "\n",
    "    faces = np.array(faces).reshape((-1, 3, 3))\n",
    "    return faces, np.unique(faces.reshape(-1, 3), axis=0)\n",
    "\n",
    "def read_stl_file(filename):\n",
    "    with open(filename, 'rb') as f:\n",
    "        if f.read(5).decode('utf-8').lower() == 'solid':\n",
    "            return read_ascii_stl(filename)\n",
    "        else:\n",
    "            return read_binary_stl(filename)\n",
    "\n",
    "# Usage\n",
    "faces, vertices = read_stl_file('cube.stl')\n",
    "print('Faces:', faces)\n",
    "print('Vertices:', vertices)"
   ]
  },
  {
   "cell_type": "code",
   "execution_count": 3,
   "metadata": {},
   "outputs": [],
   "source": [
    "import struct\n",
    "\n",
    "def merge_stl_objects(*args):\n",
    "    faces = np.concatenate([faces for faces, _ in args])\n",
    "    vertices = np.unique(faces.reshape(-1, 3), axis=0)\n",
    "    return faces, vertices\n",
    "\n",
    "def export_ascii_stl(filename, faces):\n",
    "    with open(filename, 'w') as f:\n",
    "        f.write('solid\\n')\n",
    "        for face in faces:\n",
    "            f.write('facet normal 0 0 0\\n')  # you might want to compute the actual normal\n",
    "            f.write('outer loop\\n')\n",
    "            for vertex in face:\n",
    "                f.write('vertex {} {} {}\\n'.format(*vertex))\n",
    "            f.write('endloop\\n')\n",
    "            f.write('endfacet\\n')\n",
    "        f.write('endsolid\\n')\n",
    "\n",
    "def export_binary_stl(filename, faces):\n",
    "    with open(filename, 'wb') as f:\n",
    "        f.write(struct.pack('<80sI', b'', len(faces)))  # header\n",
    "        for face in faces:\n",
    "            f.write(struct.pack('<12fH', 0, 0, 0, *face.flatten(), 0))  # normal, vertices, attribute byte count\n",
    "\n",
    "# Usage\n",
    "faces1, vertices1 = read_stl_file('cube.stl')\n",
    "faces2, vertices2 = read_stl_file('cube2.stl')\n",
    "\n",
    "merged_faces, merged_vertices = merge_stl_objects((faces1, vertices1), (faces2, vertices2))\n",
    "\n",
    "export_ascii_stl('merged_ascii.stl', merged_faces)\n",
    "export_binary_stl('merged_binary.stl', merged_faces)\n"
   ]
  },
  {
   "cell_type": "code",
   "execution_count": 4,
   "metadata": {},
   "outputs": [],
   "source": [
    "def translate(vertices, vector):\n",
    "    return vertices + vector\n",
    "\n",
    "def rotate(vertices, axis, angle):\n",
    "    angle = np.deg2rad(angle)\n",
    "    rotation_matrix = np.array([\n",
    "        [np.cos(angle) + axis[0]**2 * (1 - np.cos(angle)), axis[0] * axis[1] * (1 - np.cos(angle)) - axis[2] * np.sin(angle), axis[0] * axis[2] * (1 - np.cos(angle)) + axis[1] * np.sin(angle)],\n",
    "        [axis[1] * axis[0] * (1 - np.cos(angle)) + axis[2] * np.sin(angle), np.cos(angle) + axis[1]**2 * (1 - np.cos(angle)), axis[1] * axis[2] * (1 - np.cos(angle)) - axis[0] * np.sin(angle)],\n",
    "        [axis[2] * axis[0] * (1 - np.cos(angle)) - axis[1] * np.sin(angle), axis[2] * axis[1] * (1 - np.cos(angle)) + axis[0] * np.sin(angle), np.cos(angle) + axis[2]**2 * (1 - np.cos(angle))]\n",
    "    ])\n",
    "    return np.dot(vertices, rotation_matrix.T)\n",
    "\n",
    "def scale(vertices, vector):\n",
    "    return vertices * vector\n",
    "\n",
    "def resize(vertices, size):\n",
    "    min_values = vertices.min(axis=0)\n",
    "    max_values = vertices.max(axis=0)\n",
    "    current_size = max_values - min_values\n",
    "    scale_factor = size / current_size\n",
    "    return scale(translate(vertices, -min_values), scale_factor)\n",
    "\n",
    "def mirror(vertices, vector):\n",
    "    return vertices - 2 * np.dot(vertices, vector)[:, None] * vector\n",
    "\n",
    "def minkowski(vertices1, vertices2):\n",
    "    return np.array([v1 + v2 for v1 in vertices1 for v2 in vertices2])\n",
    "\n",
    "def is_valid_stl(faces):\n",
    "    for face in faces:\n",
    "        # A face is a valid triangle if the length of its sides satisfy the triangle inequality\n",
    "        side_lengths = np.sqrt(((face - np.roll(face, -1, axis=0))**2).sum(axis=1))\n",
    "        if not (side_lengths[0] < side_lengths[1] + side_lengths[2] and\n",
    "                side_lengths[1] < side_lengths[0] + side_lengths[2] and\n",
    "                side_lengths[2] < side_lengths[0] + side_lengths[1]):\n",
    "            return False\n",
    "    return True"
   ]
  },
  {
   "cell_type": "code",
   "execution_count": 5,
   "metadata": {},
   "outputs": [
    {
     "ename": "ModuleNotFoundError",
     "evalue": "No module named 'pypolycsg'",
     "output_type": "error",
     "traceback": [
      "\u001b[0;31m---------------------------------------------------------------------------\u001b[0m",
      "\u001b[0;31mModuleNotFoundError\u001b[0m                       Traceback (most recent call last)",
      "Cell \u001b[0;32mIn[5], line 1\u001b[0m\n\u001b[0;32m----> 1\u001b[0m \u001b[38;5;28;01mimport\u001b[39;00m \u001b[38;5;21;01mpypolycsg\u001b[39;00m \u001b[38;5;28;01mas\u001b[39;00m \u001b[38;5;21;01mcsg\u001b[39;00m\n\u001b[1;32m      3\u001b[0m \u001b[38;5;28;01mdef\u001b[39;00m \u001b[38;5;21mminkowski_stl\u001b[39m(faces1, faces2):\n\u001b[1;32m      4\u001b[0m     mesh1 \u001b[38;5;241m=\u001b[39m csg\u001b[38;5;241m.\u001b[39mmesh\u001b[38;5;241m.\u001b[39mMesh(faces1\u001b[38;5;241m.\u001b[39mreshape(\u001b[38;5;241m-\u001b[39m\u001b[38;5;241m1\u001b[39m, \u001b[38;5;241m9\u001b[39m))\n",
      "\u001b[0;31mModuleNotFoundError\u001b[0m: No module named 'pypolycsg'"
     ]
    }
   ],
   "source": [
    "import pypolycsg as csg\n",
    "\n",
    "def minkowski_stl(faces1, faces2):\n",
    "    mesh1 = csg.mesh.Mesh(faces1.reshape(-1, 9))\n",
    "    mesh2 = csg.mesh.Mesh(faces2.reshape(-1, 9))\n",
    "    mesh3 = mesh1.minkowski(mesh2)\n",
    "    return mesh3.faces.reshape(-1, 3, 3)\n"
   ]
  },
  {
   "cell_type": "code",
   "execution_count": null,
   "metadata": {},
   "outputs": [
    {
     "ename": "",
     "evalue": "",
     "output_type": "error",
     "traceback": [
      "\u001b[1;31mRunning cells with '/bin/python3' requires the ipykernel package.\n",
      "\u001b[1;31mRun the following command to install 'ipykernel' into the Python environment. \n",
      "\u001b[1;31mCommand: '/bin/python3 -m pip install ipykernel -U --user --force-reinstall'"
     ]
    }
   ],
   "source": [
    "import plotly.graph_objects as go\n",
    "\n",
    "def visualize_stl_objects(*args, display_option='mesh', size=None):\n",
    "    fig = go.Figure()\n",
    "\n",
    "    for faces, vertices in args:\n",
    "        if display_option == 'mesh':\n",
    "            x, y, z = vertices.T\n",
    "            i, j, k = faces.reshape(-1, 3).T\n",
    "            fig.add_trace(go.Mesh3d(x=x, y=y, z=z, i=i, j=j, k=k, opacity=0.5))\n",
    "        elif display_option == 'triangles':\n",
    "            for face in faces:\n",
    "                x, y, z = face.T\n",
    "                fig.add_trace(go.Scatter3d(x=x, y=y, z=z, mode='lines'))\n",
    "        elif display_option == 'points':\n",
    "            x, y, z = vertices.T\n",
    "            fig.add_trace(go.Scatter3d(x=x, y=y, z=z, mode='markers'))\n",
    "\n",
    "    if size is not None:\n",
    "        fig.update_layout(scene=dict(\n",
    "            xaxis=dict(range=[-size[0]/2, size[0]/2]),\n",
    "            yaxis=dict(range=[-size[1]/2, size[1]/2]),\n",
    "            zaxis=dict(range=[-size[2]/2, size[2]/2]),\n",
    "            aspectmode='cube'\n",
    "        ))\n",
    "\n",
    "    fig.show()\n",
    "\n",
    "faces1, vertices1 = read_stl_file('cube.stl')\n",
    "faces2, vertices2 = read_stl_file('cube2.stl')\n",
    "\n",
    "visualize_stl_objects((faces1, vertices1), (faces2, vertices2), display_option='triangles', size=None)\n"
   ]
  },
  {
   "cell_type": "code",
   "execution_count": null,
   "metadata": {},
   "outputs": [
    {
     "ename": "",
     "evalue": "",
     "output_type": "error",
     "traceback": [
      "\u001b[1;31mRunning cells with '/bin/python3' requires the ipykernel package.\n",
      "\u001b[1;31mRun the following command to install 'ipykernel' into the Python environment. \n",
      "\u001b[1;31mCommand: '/bin/python3 -m pip install ipykernel -U --user --force-reinstall'"
     ]
    }
   ],
   "source": [
    "def bounding_box_collision(vertices1, vertices2):\n",
    "    min1 = vertices1.min(axis=0)\n",
    "    max1 = vertices1.max(axis=0)\n",
    "    min2 = vertices2.min(axis=0)\n",
    "    max2 = vertices2.max(axis=0)\n",
    "    return not (max1[0] < min2[0] or max1[1] < min2[1] or max1[2] < min2[2] or\n",
    "                min1[0] > max2[0] or min1[1] > max2[1] or min1[2] > max2[2])\n",
    "\n",
    "def sphere_collision(vertices1, vertices2):\n",
    "    center1 = vertices1.mean(axis=0)\n",
    "    center2 = vertices2.mean(axis=0)\n",
    "    radius1 = np.max(np.sum((vertices1 - center1)**2, axis=1))\n",
    "    radius2 = np.max(np.sum((vertices2 - center2)**2, axis=1))\n",
    "    return np.sum((center1 - center2)**2) <= (radius1 + radius2)**2\n",
    "\n",
    "def separating_axis_theorem(faces1, faces2):\n",
    "    for faces in [faces1, faces2]:\n",
    "        for face in faces:\n",
    "            normal = np.cross(face[1] - face[0], face[2] - face[0])\n",
    "            projection1 = np.dot(faces1.reshape(-1, 3), normal)\n",
    "            projection2 = np.dot(faces2.reshape(-1, 3), normal)\n",
    "            if np.max(projection1) < np.min(projection2) or np.max(projection2) < np.min(projection1):\n",
    "                return False\n",
    "    return True\n"
   ]
  },
  {
   "cell_type": "code",
   "execution_count": 8,
   "metadata": {},
   "outputs": [
    {
     "name": "stdout",
     "output_type": "stream",
     "text": [
      "Collecting pybullet\n",
      "  Downloading pybullet-3.2.5.tar.gz (80.5 MB)\n",
      "\u001b[2K     \u001b[38;2;114;156;31m━━━━━━━━━━━━━━━━━━━━━━━━━━━━━━━━━━━━━━━━\u001b[0m \u001b[32m80.5/80.5 MB\u001b[0m \u001b[31m3.6 MB/s\u001b[0m eta \u001b[36m0:00:00\u001b[0mm eta \u001b[36m0:00:01\u001b[0m[36m0:00:01\u001b[0m\n",
      "\u001b[?25h  Preparing metadata (setup.py) ... \u001b[?25ldone\n",
      "\u001b[?25hBuilding wheels for collected packages: pybullet\n",
      "  Building wheel for pybullet (setup.py) ... \u001b[?25ldone\n",
      "\u001b[?25h  Created wheel for pybullet: filename=pybullet-3.2.5-cp311-cp311-linux_x86_64.whl size=68872953 sha256=f5716b2a400cd95b9caf48ff3a6db539b10e87e5ac8f76d0709089775fe18f75\n",
      "  Stored in directory: /home/heitzlki/.cache/pip/wheels/18/73/05/4ba33cdbfea74ca2a56b57af0e6e58d472250005a75c15d7b2\n",
      "Successfully built pybullet\n",
      "Installing collected packages: pybullet\n",
      "Successfully installed pybullet-3.2.5\n",
      "Note: you may need to restart the kernel to use updated packages.\n"
     ]
    }
   ],
   "source": [
    "%pip install pybullet trimesh"
   ]
  },
  {
   "cell_type": "code",
   "execution_count": 9,
   "metadata": {},
   "outputs": [
    {
     "ename": "ModuleNotFoundError",
     "evalue": "No module named 'trimesh'",
     "output_type": "error",
     "traceback": [
      "\u001b[0;31m---------------------------------------------------------------------------\u001b[0m",
      "\u001b[0;31mModuleNotFoundError\u001b[0m                       Traceback (most recent call last)",
      "Cell \u001b[0;32mIn[9], line 1\u001b[0m\n\u001b[0;32m----> 1\u001b[0m \u001b[38;5;28;01mimport\u001b[39;00m \u001b[38;5;21;01mtrimesh\u001b[39;00m\n\u001b[1;32m      2\u001b[0m \u001b[38;5;28;01mimport\u001b[39;00m \u001b[38;5;21;01mpybullet\u001b[39;00m \u001b[38;5;28;01mas\u001b[39;00m \u001b[38;5;21;01mp\u001b[39;00m\n\u001b[1;32m      4\u001b[0m \u001b[38;5;28;01mdef\u001b[39;00m \u001b[38;5;21mload_stl_as_body\u001b[39m(file_name, scale\u001b[38;5;241m=\u001b[39m\u001b[38;5;241m1.0\u001b[39m):\n",
      "\u001b[0;31mModuleNotFoundError\u001b[0m: No module named 'trimesh'"
     ]
    }
   ],
   "source": [
    "import trimesh\n",
    "import pybullet as p\n",
    "\n",
    "def load_stl_as_body(file_name, scale=1.0):\n",
    "    trimesh_mesh = trimesh.load_mesh(file_name)\n",
    "    trimesh_mesh.apply_scale(scale)\n",
    "\n",
    "    # Export to a format pybullet can import\n",
    "    _, tmp_file_name = tempfile.mkstemp(suffix='.obj')\n",
    "    trimesh_mesh.export(tmp_file_name)\n",
    "\n",
    "    # Load the temporary file\n",
    "    visual_shape_id = p.createVisualShape(shapeType=p.GEOM_MESH,\n",
    "                                          fileName=tmp_file_name,\n",
    "                                          rgbaColor=[1, 1, 1, 1],\n",
    "                                          specularColor=[0.4, .4, 0])\n",
    "\n",
    "    collision_shape_id = p.createCollisionShape(shapeType=p.GEOM_MESH,\n",
    "                                                fileName=tmp_file_name)\n",
    "\n",
    "    body_id = p.createMultiBody(baseMass=0,\n",
    "                                baseCollisionShapeIndex=collision_shape_id,\n",
    "                                baseVisualShapeIndex=visual_shape_id)\n",
    "\n",
    "    return body_id\n",
    "\n",
    "# Start PyBullet\n",
    "p.connect(p.DIRECT)\n",
    "\n",
    "# Load the two STL objects\n",
    "object1 = load_stl_as_body('cube1.stl')\n",
    "object2 = load_stl_as_body('cube2.stl')\n",
    "\n",
    "# Check for collisions\n",
    "contact_points = p.getClosestPoints(object1, object2, 0)\n",
    "\n",
    "# If there are any contact points, the objects are colliding\n",
    "if len(contact_points) > 0:\n",
    "    print('The objects are colliding.')\n",
    "else:\n",
    "    print('The objects are not colliding.')\n"
   ]
  }
 ],
 "metadata": {
  "kernelspec": {
   "display_name": "Python 3 (ipykernel)",
   "language": "python",
   "name": "python3"
  },
  "language_info": {
   "codemirror_mode": {
    "name": "ipython",
    "version": 3
   },
   "file_extension": ".py",
   "mimetype": "text/x-python",
   "name": "python",
   "nbconvert_exporter": "python",
   "pygments_lexer": "ipython3",
   "version": "3.11.3"
  }
 },
 "nbformat": 4,
 "nbformat_minor": 2
}
