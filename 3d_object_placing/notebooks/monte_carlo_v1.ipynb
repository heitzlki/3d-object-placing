{
 "cells": [
  {
   "cell_type": "markdown",
   "metadata": {},
   "source": [
    "- set min amount of space between objects, max amount of objects, iterations\n",
    "\n",
    "- generate random position & rotation for objects -> AABB check in plane, check collision -> yes check SAT collision -> no check distance closest point -> > space between -> distance center of mass -> add from smallest to biggest\n"
   ]
  },
  {
   "cell_type": "code",
   "execution_count": 2,
   "metadata": {},
   "outputs": [
    {
     "name": "stdout",
     "output_type": "stream",
     "text": [
      "Requirement already satisfied: numpy in /home/heitzlki/Code/3d-object-placing/.venv/lib/python3.11/site-packages (1.25.2)\n",
      "Requirement already satisfied: plotly in /home/heitzlki/Code/3d-object-placing/.venv/lib/python3.11/site-packages (5.15.0)\n",
      "Requirement already satisfied: tenacity>=6.2.0 in /home/heitzlki/Code/3d-object-placing/.venv/lib/python3.11/site-packages (from plotly) (8.2.2)\n",
      "Requirement already satisfied: packaging in /home/heitzlki/Code/3d-object-placing/.venv/lib/python3.11/site-packages (from plotly) (23.1)\n",
      "Note: you may need to restart the kernel to use updated packages.\n"
     ]
    }
   ],
   "source": [
    "%pip install numpy plotly"
   ]
  },
  {
   "cell_type": "code",
   "execution_count": 3,
   "metadata": {},
   "outputs": [],
   "source": [
    "import subprocess, struct\n",
    "import numpy as np\n",
    "import plotly.graph_objects as go"
   ]
  },
  {
   "cell_type": "code",
   "execution_count": 4,
   "metadata": {},
   "outputs": [],
   "source": [
    "def create_openscad_model(scad_code, filename):\n",
    "    filename = f\"{filename}.scad\"\n",
    "    # Write the code to an .scad file\n",
    "    with open(filename, \"w\") as f:\n",
    "        f.write(scad_code)\n",
    "\n",
    "    print(f\"{filename} created successfully.\")\n",
    "\n",
    "\n",
    "def convert_scad_to_stl(input_file, output_file):\n",
    "    input_file = f\"{input_file}.scad\"\n",
    "    output_file = f\"{output_file}.stl\"\n",
    "\n",
    "    try:\n",
    "        subprocess.check_call([\"openscad\", \"-o\", output_file, input_file])\n",
    "        print(f\"{input_file} successfully converted to {output_file}\")\n",
    "    except subprocess.CalledProcessError:\n",
    "        print(f\"Error converting {input_file} to {output_file}\")"
   ]
  },
  {
   "cell_type": "code",
   "execution_count": 5,
   "metadata": {},
   "outputs": [
    {
     "name": "stdout",
     "output_type": "stream",
     "text": [
      "modelOne.scad created successfully.\n",
      "modelTwo.scad created successfully.\n",
      "modelOne.scad successfully converted to modelOne.stl\n",
      "modelTwo.scad successfully converted to modelTwo.stl\n"
     ]
    },
    {
     "name": "stderr",
     "output_type": "stream",
     "text": [
      "Geometries in cache: 1\n",
      "Geometry cache size in bytes: 728\n",
      "CGAL Polyhedrons in cache: 0\n",
      "CGAL cache size in bytes: 0\n",
      "Total rendering time: 0:00:00.001\n",
      "   Top level object is a 3D object:\n",
      "   Facets:          6\n",
      "Geometries in cache: 1\n",
      "Geometry cache size in bytes: 728\n",
      "CGAL Polyhedrons in cache: 0\n",
      "CGAL cache size in bytes: 0\n",
      "Total rendering time: 0:00:00.000\n",
      "   Top level object is a 3D object:\n",
      "   Facets:          6\n"
     ]
    }
   ],
   "source": [
    "modelOneFileName = \"modelOne\"\n",
    "modelTwoFileName = \"modelTwo\"\n",
    "\n",
    "modelOneScadCode = \"cube(1);\"\n",
    "modelTwoScadCode = \"cube(1);\"\n",
    "\n",
    "create_openscad_model(modelOneScadCode, modelOneFileName)\n",
    "create_openscad_model(modelTwoScadCode, modelTwoFileName)\n",
    "\n",
    "convert_scad_to_stl(modelOneFileName, modelOneFileName)\n",
    "convert_scad_to_stl(modelTwoFileName, modelTwoFileName)"
   ]
  },
  {
   "cell_type": "code",
   "execution_count": 6,
   "metadata": {},
   "outputs": [],
   "source": [
    "def read_ascii_stl(filename):\n",
    "    filename = f\"{filename}.stl\"\n",
    "\n",
    "    with open(filename, \"r\") as f:\n",
    "        lines = f.readlines()\n",
    "\n",
    "    vertices = []\n",
    "    for line in lines:\n",
    "        parts = line.split()\n",
    "        if len(parts) > 0 and parts[0] == \"vertex\":\n",
    "            vertices.append(list(map(float, parts[1:])))\n",
    "\n",
    "    faces = np.array(vertices).reshape((-1, 3, 3))\n",
    "    return faces"
   ]
  },
  {
   "cell_type": "code",
   "execution_count": 7,
   "metadata": {},
   "outputs": [
    {
     "name": "stdout",
     "output_type": "stream",
     "text": [
      "[[[0. 1. 1.]\n",
      "  [1. 0. 1.]\n",
      "  [1. 1. 1.]]\n",
      "\n",
      " [[1. 0. 1.]\n",
      "  [0. 1. 1.]\n",
      "  [0. 0. 1.]]\n",
      "\n",
      " [[0. 0. 0.]\n",
      "  [1. 1. 0.]\n",
      "  [1. 0. 0.]]\n",
      "\n",
      " [[1. 1. 0.]\n",
      "  [0. 0. 0.]\n",
      "  [0. 1. 0.]]\n",
      "\n",
      " [[0. 0. 0.]\n",
      "  [1. 0. 1.]\n",
      "  [0. 0. 1.]]\n",
      "\n",
      " [[1. 0. 1.]\n",
      "  [0. 0. 0.]\n",
      "  [1. 0. 0.]]\n",
      "\n",
      " [[1. 0. 1.]\n",
      "  [1. 1. 0.]\n",
      "  [1. 1. 1.]]\n",
      "\n",
      " [[1. 1. 0.]\n",
      "  [1. 0. 1.]\n",
      "  [1. 0. 0.]]\n",
      "\n",
      " [[1. 1. 0.]\n",
      "  [0. 1. 1.]\n",
      "  [1. 1. 1.]]\n",
      "\n",
      " [[0. 1. 1.]\n",
      "  [1. 1. 0.]\n",
      "  [0. 1. 0.]]\n",
      "\n",
      " [[0. 0. 0.]\n",
      "  [0. 1. 1.]\n",
      "  [0. 1. 0.]]\n",
      "\n",
      " [[0. 1. 1.]\n",
      "  [0. 0. 0.]\n",
      "  [0. 0. 1.]]]\n"
     ]
    }
   ],
   "source": [
    "facesOne = read_ascii_stl(modelOneFileName)\n",
    "facesTwo = read_ascii_stl(modelTwoFileName)\n",
    "\n",
    "print(facesOne)"
   ]
  },
  {
   "cell_type": "code",
   "execution_count": 8,
   "metadata": {},
   "outputs": [],
   "source": [
    "def unique_vertices(faces):\n",
    "    return np.unique(faces.reshape(-1, 3), axis=0)"
   ]
  },
  {
   "cell_type": "code",
   "execution_count": 9,
   "metadata": {},
   "outputs": [],
   "source": [
    "verticesOne = unique_vertices(facesOne)\n",
    "verticesTwo = unique_vertices(facesTwo)"
   ]
  },
  {
   "cell_type": "code",
   "execution_count": 10,
   "metadata": {},
   "outputs": [],
   "source": [
    "def translate_faces(faces, vector):\n",
    "    return faces + vector"
   ]
  },
  {
   "cell_type": "code",
   "execution_count": 11,
   "metadata": {},
   "outputs": [],
   "source": [
    "def centroid(faces):\n",
    "    return np.mean(faces.reshape(-1, 3), axis=0)"
   ]
  },
  {
   "cell_type": "code",
   "execution_count": 12,
   "metadata": {},
   "outputs": [],
   "source": [
    "def object_borders(faces):\n",
    "    return np.array(\n",
    "        [\n",
    "            [\n",
    "                np.min(faces[:, :, 0]),\n",
    "                np.max(faces[:, :, 0]),\n",
    "            ],\n",
    "            [\n",
    "                np.min(faces[:, :, 1]),\n",
    "                np.max(faces[:, :, 1]),\n",
    "            ],\n",
    "            [\n",
    "                np.min(faces[:, :, 2]),\n",
    "                np.max(faces[:, :, 2]),\n",
    "            ],\n",
    "        ]\n",
    "    )"
   ]
  },
  {
   "cell_type": "code",
   "execution_count": 13,
   "metadata": {},
   "outputs": [
    {
     "name": "stdout",
     "output_type": "stream",
     "text": [
      "[[0. 1.]\n",
      " [0. 1.]\n",
      " [0. 1.]]\n"
     ]
    }
   ],
   "source": [
    "print(object_borders(facesOne))"
   ]
  },
  {
   "cell_type": "code",
   "execution_count": 14,
   "metadata": {},
   "outputs": [],
   "source": [
    "def visualize_stl_objects(*args, title=\"\", size=None):\n",
    "    fig = go.Figure()\n",
    "\n",
    "    for faces in args:\n",
    "        for face in faces:\n",
    "            x, y, z = face.T\n",
    "            fig.add_trace(\n",
    "                go.Scatter3d(\n",
    "                    x=np.concatenate([x, [x[0]]]),\n",
    "                    y=np.concatenate([y, [y[0]]]),\n",
    "                    z=np.concatenate([z, [z[0]]]),\n",
    "                    mode=\"lines+markers\",\n",
    "                )\n",
    "            )\n",
    "\n",
    "    if size is not None:\n",
    "        fig.update_layout(\n",
    "            scene=dict(\n",
    "                xaxis=dict(range=[0, size[0]]),\n",
    "                yaxis=dict(range=[0, size[1]]),\n",
    "                zaxis=dict(range=[0, size[2]]),\n",
    "                aspectmode=\"cube\",\n",
    "            )\n",
    "        )\n",
    "\n",
    "    fig.update_layout(\n",
    "        scene=dict(xaxis_title=\"X\", yaxis_title=\"Y\", zaxis_title=\"Z\"), title=title\n",
    "    )\n",
    "\n",
    "    fig.show()"
   ]
  },
  {
   "cell_type": "code",
   "execution_count": 15,
   "metadata": {},
   "outputs": [],
   "source": [
    "def center_object_xy(faces, center):\n",
    "    object_center = centroid(faces)\n",
    "    center = np.array([center[0], center[1], 0])\n",
    "    return translate_faces(faces, center - object_center)"
   ]
  },
  {
   "cell_type": "code",
   "execution_count": 16,
   "metadata": {},
   "outputs": [],
   "source": [
    "size_x = 8\n",
    "size_y = 8\n",
    "size_z = 4\n",
    "\n",
    "size = np.array([size_x, size_y, size_z])\n",
    "center = size / 2"
   ]
  },
  {
   "cell_type": "code",
   "execution_count": 17,
   "metadata": {},
   "outputs": [
    {
     "data": {
      "application/vnd.plotly.v1+json": {
       "config": {
        "plotlyServerURL": "https://plot.ly"
       },
       "data": [
        {
         "mode": "lines+markers",
         "type": "scatter3d",
         "x": [
          3.5,
          4.5,
          4.5,
          3.5
         ],
         "y": [
          4.5,
          3.5,
          4.5,
          4.5
         ],
         "z": [
          0.5,
          0.5,
          0.5,
          0.5
         ]
        },
        {
         "mode": "lines+markers",
         "type": "scatter3d",
         "x": [
          4.5,
          3.5,
          3.5,
          4.5
         ],
         "y": [
          3.5,
          4.5,
          3.5,
          3.5
         ],
         "z": [
          0.5,
          0.5,
          0.5,
          0.5
         ]
        },
        {
         "mode": "lines+markers",
         "type": "scatter3d",
         "x": [
          3.5,
          4.5,
          4.5,
          3.5
         ],
         "y": [
          3.5,
          4.5,
          3.5,
          3.5
         ],
         "z": [
          -0.5,
          -0.5,
          -0.5,
          -0.5
         ]
        },
        {
         "mode": "lines+markers",
         "type": "scatter3d",
         "x": [
          4.5,
          3.5,
          3.5,
          4.5
         ],
         "y": [
          4.5,
          3.5,
          4.5,
          4.5
         ],
         "z": [
          -0.5,
          -0.5,
          -0.5,
          -0.5
         ]
        },
        {
         "mode": "lines+markers",
         "type": "scatter3d",
         "x": [
          3.5,
          4.5,
          3.5,
          3.5
         ],
         "y": [
          3.5,
          3.5,
          3.5,
          3.5
         ],
         "z": [
          -0.5,
          0.5,
          0.5,
          -0.5
         ]
        },
        {
         "mode": "lines+markers",
         "type": "scatter3d",
         "x": [
          4.5,
          3.5,
          4.5,
          4.5
         ],
         "y": [
          3.5,
          3.5,
          3.5,
          3.5
         ],
         "z": [
          0.5,
          -0.5,
          -0.5,
          0.5
         ]
        },
        {
         "mode": "lines+markers",
         "type": "scatter3d",
         "x": [
          4.5,
          4.5,
          4.5,
          4.5
         ],
         "y": [
          3.5,
          4.5,
          4.5,
          3.5
         ],
         "z": [
          0.5,
          -0.5,
          0.5,
          0.5
         ]
        },
        {
         "mode": "lines+markers",
         "type": "scatter3d",
         "x": [
          4.5,
          4.5,
          4.5,
          4.5
         ],
         "y": [
          4.5,
          3.5,
          3.5,
          4.5
         ],
         "z": [
          -0.5,
          0.5,
          -0.5,
          -0.5
         ]
        },
        {
         "mode": "lines+markers",
         "type": "scatter3d",
         "x": [
          4.5,
          3.5,
          4.5,
          4.5
         ],
         "y": [
          4.5,
          4.5,
          4.5,
          4.5
         ],
         "z": [
          -0.5,
          0.5,
          0.5,
          -0.5
         ]
        },
        {
         "mode": "lines+markers",
         "type": "scatter3d",
         "x": [
          3.5,
          4.5,
          3.5,
          3.5
         ],
         "y": [
          4.5,
          4.5,
          4.5,
          4.5
         ],
         "z": [
          0.5,
          -0.5,
          -0.5,
          0.5
         ]
        },
        {
         "mode": "lines+markers",
         "type": "scatter3d",
         "x": [
          3.5,
          3.5,
          3.5,
          3.5
         ],
         "y": [
          3.5,
          4.5,
          4.5,
          3.5
         ],
         "z": [
          -0.5,
          0.5,
          -0.5,
          -0.5
         ]
        },
        {
         "mode": "lines+markers",
         "type": "scatter3d",
         "x": [
          3.5,
          3.5,
          3.5,
          3.5
         ],
         "y": [
          4.5,
          3.5,
          3.5,
          4.5
         ],
         "z": [
          0.5,
          -0.5,
          0.5,
          0.5
         ]
        },
        {
         "mode": "lines+markers",
         "type": "scatter3d",
         "x": [
          0,
          1,
          1,
          0
         ],
         "y": [
          1,
          0,
          1,
          1
         ],
         "z": [
          1,
          1,
          1,
          1
         ]
        },
        {
         "mode": "lines+markers",
         "type": "scatter3d",
         "x": [
          1,
          0,
          0,
          1
         ],
         "y": [
          0,
          1,
          0,
          0
         ],
         "z": [
          1,
          1,
          1,
          1
         ]
        },
        {
         "mode": "lines+markers",
         "type": "scatter3d",
         "x": [
          0,
          1,
          1,
          0
         ],
         "y": [
          0,
          1,
          0,
          0
         ],
         "z": [
          0,
          0,
          0,
          0
         ]
        },
        {
         "mode": "lines+markers",
         "type": "scatter3d",
         "x": [
          1,
          0,
          0,
          1
         ],
         "y": [
          1,
          0,
          1,
          1
         ],
         "z": [
          0,
          0,
          0,
          0
         ]
        },
        {
         "mode": "lines+markers",
         "type": "scatter3d",
         "x": [
          0,
          1,
          0,
          0
         ],
         "y": [
          0,
          0,
          0,
          0
         ],
         "z": [
          0,
          1,
          1,
          0
         ]
        },
        {
         "mode": "lines+markers",
         "type": "scatter3d",
         "x": [
          1,
          0,
          1,
          1
         ],
         "y": [
          0,
          0,
          0,
          0
         ],
         "z": [
          1,
          0,
          0,
          1
         ]
        },
        {
         "mode": "lines+markers",
         "type": "scatter3d",
         "x": [
          1,
          1,
          1,
          1
         ],
         "y": [
          0,
          1,
          1,
          0
         ],
         "z": [
          1,
          0,
          1,
          1
         ]
        },
        {
         "mode": "lines+markers",
         "type": "scatter3d",
         "x": [
          1,
          1,
          1,
          1
         ],
         "y": [
          1,
          0,
          0,
          1
         ],
         "z": [
          0,
          1,
          0,
          0
         ]
        },
        {
         "mode": "lines+markers",
         "type": "scatter3d",
         "x": [
          1,
          0,
          1,
          1
         ],
         "y": [
          1,
          1,
          1,
          1
         ],
         "z": [
          0,
          1,
          1,
          0
         ]
        },
        {
         "mode": "lines+markers",
         "type": "scatter3d",
         "x": [
          0,
          1,
          0,
          0
         ],
         "y": [
          1,
          1,
          1,
          1
         ],
         "z": [
          1,
          0,
          0,
          1
         ]
        },
        {
         "mode": "lines+markers",
         "type": "scatter3d",
         "x": [
          0,
          0,
          0,
          0
         ],
         "y": [
          0,
          1,
          1,
          0
         ],
         "z": [
          0,
          1,
          0,
          0
         ]
        },
        {
         "mode": "lines+markers",
         "type": "scatter3d",
         "x": [
          0,
          0,
          0,
          0
         ],
         "y": [
          1,
          0,
          0,
          1
         ],
         "z": [
          1,
          0,
          1,
          1
         ]
        }
       ],
       "layout": {
        "scene": {
         "aspectmode": "cube",
         "xaxis": {
          "range": [
           0,
           8
          ],
          "title": {
           "text": "X"
          }
         },
         "yaxis": {
          "range": [
           0,
           8
          ],
          "title": {
           "text": "Y"
          }
         },
         "zaxis": {
          "range": [
           0,
           4
          ],
          "title": {
           "text": "Z"
          }
         }
        },
        "template": {
         "data": {
          "bar": [
           {
            "error_x": {
             "color": "#2a3f5f"
            },
            "error_y": {
             "color": "#2a3f5f"
            },
            "marker": {
             "line": {
              "color": "#E5ECF6",
              "width": 0.5
             },
             "pattern": {
              "fillmode": "overlay",
              "size": 10,
              "solidity": 0.2
             }
            },
            "type": "bar"
           }
          ],
          "barpolar": [
           {
            "marker": {
             "line": {
              "color": "#E5ECF6",
              "width": 0.5
             },
             "pattern": {
              "fillmode": "overlay",
              "size": 10,
              "solidity": 0.2
             }
            },
            "type": "barpolar"
           }
          ],
          "carpet": [
           {
            "aaxis": {
             "endlinecolor": "#2a3f5f",
             "gridcolor": "white",
             "linecolor": "white",
             "minorgridcolor": "white",
             "startlinecolor": "#2a3f5f"
            },
            "baxis": {
             "endlinecolor": "#2a3f5f",
             "gridcolor": "white",
             "linecolor": "white",
             "minorgridcolor": "white",
             "startlinecolor": "#2a3f5f"
            },
            "type": "carpet"
           }
          ],
          "choropleth": [
           {
            "colorbar": {
             "outlinewidth": 0,
             "ticks": ""
            },
            "type": "choropleth"
           }
          ],
          "contour": [
           {
            "colorbar": {
             "outlinewidth": 0,
             "ticks": ""
            },
            "colorscale": [
             [
              0,
              "#0d0887"
             ],
             [
              0.1111111111111111,
              "#46039f"
             ],
             [
              0.2222222222222222,
              "#7201a8"
             ],
             [
              0.3333333333333333,
              "#9c179e"
             ],
             [
              0.4444444444444444,
              "#bd3786"
             ],
             [
              0.5555555555555556,
              "#d8576b"
             ],
             [
              0.6666666666666666,
              "#ed7953"
             ],
             [
              0.7777777777777778,
              "#fb9f3a"
             ],
             [
              0.8888888888888888,
              "#fdca26"
             ],
             [
              1,
              "#f0f921"
             ]
            ],
            "type": "contour"
           }
          ],
          "contourcarpet": [
           {
            "colorbar": {
             "outlinewidth": 0,
             "ticks": ""
            },
            "type": "contourcarpet"
           }
          ],
          "heatmap": [
           {
            "colorbar": {
             "outlinewidth": 0,
             "ticks": ""
            },
            "colorscale": [
             [
              0,
              "#0d0887"
             ],
             [
              0.1111111111111111,
              "#46039f"
             ],
             [
              0.2222222222222222,
              "#7201a8"
             ],
             [
              0.3333333333333333,
              "#9c179e"
             ],
             [
              0.4444444444444444,
              "#bd3786"
             ],
             [
              0.5555555555555556,
              "#d8576b"
             ],
             [
              0.6666666666666666,
              "#ed7953"
             ],
             [
              0.7777777777777778,
              "#fb9f3a"
             ],
             [
              0.8888888888888888,
              "#fdca26"
             ],
             [
              1,
              "#f0f921"
             ]
            ],
            "type": "heatmap"
           }
          ],
          "heatmapgl": [
           {
            "colorbar": {
             "outlinewidth": 0,
             "ticks": ""
            },
            "colorscale": [
             [
              0,
              "#0d0887"
             ],
             [
              0.1111111111111111,
              "#46039f"
             ],
             [
              0.2222222222222222,
              "#7201a8"
             ],
             [
              0.3333333333333333,
              "#9c179e"
             ],
             [
              0.4444444444444444,
              "#bd3786"
             ],
             [
              0.5555555555555556,
              "#d8576b"
             ],
             [
              0.6666666666666666,
              "#ed7953"
             ],
             [
              0.7777777777777778,
              "#fb9f3a"
             ],
             [
              0.8888888888888888,
              "#fdca26"
             ],
             [
              1,
              "#f0f921"
             ]
            ],
            "type": "heatmapgl"
           }
          ],
          "histogram": [
           {
            "marker": {
             "pattern": {
              "fillmode": "overlay",
              "size": 10,
              "solidity": 0.2
             }
            },
            "type": "histogram"
           }
          ],
          "histogram2d": [
           {
            "colorbar": {
             "outlinewidth": 0,
             "ticks": ""
            },
            "colorscale": [
             [
              0,
              "#0d0887"
             ],
             [
              0.1111111111111111,
              "#46039f"
             ],
             [
              0.2222222222222222,
              "#7201a8"
             ],
             [
              0.3333333333333333,
              "#9c179e"
             ],
             [
              0.4444444444444444,
              "#bd3786"
             ],
             [
              0.5555555555555556,
              "#d8576b"
             ],
             [
              0.6666666666666666,
              "#ed7953"
             ],
             [
              0.7777777777777778,
              "#fb9f3a"
             ],
             [
              0.8888888888888888,
              "#fdca26"
             ],
             [
              1,
              "#f0f921"
             ]
            ],
            "type": "histogram2d"
           }
          ],
          "histogram2dcontour": [
           {
            "colorbar": {
             "outlinewidth": 0,
             "ticks": ""
            },
            "colorscale": [
             [
              0,
              "#0d0887"
             ],
             [
              0.1111111111111111,
              "#46039f"
             ],
             [
              0.2222222222222222,
              "#7201a8"
             ],
             [
              0.3333333333333333,
              "#9c179e"
             ],
             [
              0.4444444444444444,
              "#bd3786"
             ],
             [
              0.5555555555555556,
              "#d8576b"
             ],
             [
              0.6666666666666666,
              "#ed7953"
             ],
             [
              0.7777777777777778,
              "#fb9f3a"
             ],
             [
              0.8888888888888888,
              "#fdca26"
             ],
             [
              1,
              "#f0f921"
             ]
            ],
            "type": "histogram2dcontour"
           }
          ],
          "mesh3d": [
           {
            "colorbar": {
             "outlinewidth": 0,
             "ticks": ""
            },
            "type": "mesh3d"
           }
          ],
          "parcoords": [
           {
            "line": {
             "colorbar": {
              "outlinewidth": 0,
              "ticks": ""
             }
            },
            "type": "parcoords"
           }
          ],
          "pie": [
           {
            "automargin": true,
            "type": "pie"
           }
          ],
          "scatter": [
           {
            "fillpattern": {
             "fillmode": "overlay",
             "size": 10,
             "solidity": 0.2
            },
            "type": "scatter"
           }
          ],
          "scatter3d": [
           {
            "line": {
             "colorbar": {
              "outlinewidth": 0,
              "ticks": ""
             }
            },
            "marker": {
             "colorbar": {
              "outlinewidth": 0,
              "ticks": ""
             }
            },
            "type": "scatter3d"
           }
          ],
          "scattercarpet": [
           {
            "marker": {
             "colorbar": {
              "outlinewidth": 0,
              "ticks": ""
             }
            },
            "type": "scattercarpet"
           }
          ],
          "scattergeo": [
           {
            "marker": {
             "colorbar": {
              "outlinewidth": 0,
              "ticks": ""
             }
            },
            "type": "scattergeo"
           }
          ],
          "scattergl": [
           {
            "marker": {
             "colorbar": {
              "outlinewidth": 0,
              "ticks": ""
             }
            },
            "type": "scattergl"
           }
          ],
          "scattermapbox": [
           {
            "marker": {
             "colorbar": {
              "outlinewidth": 0,
              "ticks": ""
             }
            },
            "type": "scattermapbox"
           }
          ],
          "scatterpolar": [
           {
            "marker": {
             "colorbar": {
              "outlinewidth": 0,
              "ticks": ""
             }
            },
            "type": "scatterpolar"
           }
          ],
          "scatterpolargl": [
           {
            "marker": {
             "colorbar": {
              "outlinewidth": 0,
              "ticks": ""
             }
            },
            "type": "scatterpolargl"
           }
          ],
          "scatterternary": [
           {
            "marker": {
             "colorbar": {
              "outlinewidth": 0,
              "ticks": ""
             }
            },
            "type": "scatterternary"
           }
          ],
          "surface": [
           {
            "colorbar": {
             "outlinewidth": 0,
             "ticks": ""
            },
            "colorscale": [
             [
              0,
              "#0d0887"
             ],
             [
              0.1111111111111111,
              "#46039f"
             ],
             [
              0.2222222222222222,
              "#7201a8"
             ],
             [
              0.3333333333333333,
              "#9c179e"
             ],
             [
              0.4444444444444444,
              "#bd3786"
             ],
             [
              0.5555555555555556,
              "#d8576b"
             ],
             [
              0.6666666666666666,
              "#ed7953"
             ],
             [
              0.7777777777777778,
              "#fb9f3a"
             ],
             [
              0.8888888888888888,
              "#fdca26"
             ],
             [
              1,
              "#f0f921"
             ]
            ],
            "type": "surface"
           }
          ],
          "table": [
           {
            "cells": {
             "fill": {
              "color": "#EBF0F8"
             },
             "line": {
              "color": "white"
             }
            },
            "header": {
             "fill": {
              "color": "#C8D4E3"
             },
             "line": {
              "color": "white"
             }
            },
            "type": "table"
           }
          ]
         },
         "layout": {
          "annotationdefaults": {
           "arrowcolor": "#2a3f5f",
           "arrowhead": 0,
           "arrowwidth": 1
          },
          "autotypenumbers": "strict",
          "coloraxis": {
           "colorbar": {
            "outlinewidth": 0,
            "ticks": ""
           }
          },
          "colorscale": {
           "diverging": [
            [
             0,
             "#8e0152"
            ],
            [
             0.1,
             "#c51b7d"
            ],
            [
             0.2,
             "#de77ae"
            ],
            [
             0.3,
             "#f1b6da"
            ],
            [
             0.4,
             "#fde0ef"
            ],
            [
             0.5,
             "#f7f7f7"
            ],
            [
             0.6,
             "#e6f5d0"
            ],
            [
             0.7,
             "#b8e186"
            ],
            [
             0.8,
             "#7fbc41"
            ],
            [
             0.9,
             "#4d9221"
            ],
            [
             1,
             "#276419"
            ]
           ],
           "sequential": [
            [
             0,
             "#0d0887"
            ],
            [
             0.1111111111111111,
             "#46039f"
            ],
            [
             0.2222222222222222,
             "#7201a8"
            ],
            [
             0.3333333333333333,
             "#9c179e"
            ],
            [
             0.4444444444444444,
             "#bd3786"
            ],
            [
             0.5555555555555556,
             "#d8576b"
            ],
            [
             0.6666666666666666,
             "#ed7953"
            ],
            [
             0.7777777777777778,
             "#fb9f3a"
            ],
            [
             0.8888888888888888,
             "#fdca26"
            ],
            [
             1,
             "#f0f921"
            ]
           ],
           "sequentialminus": [
            [
             0,
             "#0d0887"
            ],
            [
             0.1111111111111111,
             "#46039f"
            ],
            [
             0.2222222222222222,
             "#7201a8"
            ],
            [
             0.3333333333333333,
             "#9c179e"
            ],
            [
             0.4444444444444444,
             "#bd3786"
            ],
            [
             0.5555555555555556,
             "#d8576b"
            ],
            [
             0.6666666666666666,
             "#ed7953"
            ],
            [
             0.7777777777777778,
             "#fb9f3a"
            ],
            [
             0.8888888888888888,
             "#fdca26"
            ],
            [
             1,
             "#f0f921"
            ]
           ]
          },
          "colorway": [
           "#636efa",
           "#EF553B",
           "#00cc96",
           "#ab63fa",
           "#FFA15A",
           "#19d3f3",
           "#FF6692",
           "#B6E880",
           "#FF97FF",
           "#FECB52"
          ],
          "font": {
           "color": "#2a3f5f"
          },
          "geo": {
           "bgcolor": "white",
           "lakecolor": "white",
           "landcolor": "#E5ECF6",
           "showlakes": true,
           "showland": true,
           "subunitcolor": "white"
          },
          "hoverlabel": {
           "align": "left"
          },
          "hovermode": "closest",
          "mapbox": {
           "style": "light"
          },
          "paper_bgcolor": "white",
          "plot_bgcolor": "#E5ECF6",
          "polar": {
           "angularaxis": {
            "gridcolor": "white",
            "linecolor": "white",
            "ticks": ""
           },
           "bgcolor": "#E5ECF6",
           "radialaxis": {
            "gridcolor": "white",
            "linecolor": "white",
            "ticks": ""
           }
          },
          "scene": {
           "xaxis": {
            "backgroundcolor": "#E5ECF6",
            "gridcolor": "white",
            "gridwidth": 2,
            "linecolor": "white",
            "showbackground": true,
            "ticks": "",
            "zerolinecolor": "white"
           },
           "yaxis": {
            "backgroundcolor": "#E5ECF6",
            "gridcolor": "white",
            "gridwidth": 2,
            "linecolor": "white",
            "showbackground": true,
            "ticks": "",
            "zerolinecolor": "white"
           },
           "zaxis": {
            "backgroundcolor": "#E5ECF6",
            "gridcolor": "white",
            "gridwidth": 2,
            "linecolor": "white",
            "showbackground": true,
            "ticks": "",
            "zerolinecolor": "white"
           }
          },
          "shapedefaults": {
           "line": {
            "color": "#2a3f5f"
           }
          },
          "ternary": {
           "aaxis": {
            "gridcolor": "white",
            "linecolor": "white",
            "ticks": ""
           },
           "baxis": {
            "gridcolor": "white",
            "linecolor": "white",
            "ticks": ""
           },
           "bgcolor": "#E5ECF6",
           "caxis": {
            "gridcolor": "white",
            "linecolor": "white",
            "ticks": ""
           }
          },
          "title": {
           "x": 0.05
          },
          "xaxis": {
           "automargin": true,
           "gridcolor": "white",
           "linecolor": "white",
           "ticks": "",
           "title": {
            "standoff": 15
           },
           "zerolinecolor": "white",
           "zerolinewidth": 2
          },
          "yaxis": {
           "automargin": true,
           "gridcolor": "white",
           "linecolor": "white",
           "ticks": "",
           "title": {
            "standoff": 15
           },
           "zerolinecolor": "white",
           "zerolinewidth": 2
          }
         }
        },
        "title": {
         "text": ""
        }
       }
      }
     },
     "metadata": {},
     "output_type": "display_data"
    }
   ],
   "source": [
    "facesOne = center_object_xy(facesOne, center)\n",
    "\n",
    "\n",
    "visualize_stl_objects(\n",
    "    facesOne,\n",
    "    facesTwo,\n",
    "    title=\"\",\n",
    "    size=[size_x, size_y, size_z],\n",
    ")"
   ]
  },
  {
   "cell_type": "code",
   "execution_count": 18,
   "metadata": {},
   "outputs": [],
   "source": [
    "def aabb(facesOne, facesTwo):\n",
    "    bordersOne = object_borders(facesOne)\n",
    "    bordersTwo = object_borders(facesTwo)\n",
    "\n",
    "    for i in range(3):\n",
    "        if bordersOne[i][0] > bordersTwo[i][1] or bordersOne[i][1] < bordersTwo[i][0]:\n",
    "            return False\n",
    "    return True"
   ]
  },
  {
   "cell_type": "code",
   "execution_count": 26,
   "metadata": {},
   "outputs": [
    {
     "name": "stdout",
     "output_type": "stream",
     "text": [
      "True\n"
     ]
    },
    {
     "data": {
      "application/vnd.plotly.v1+json": {
       "config": {
        "plotlyServerURL": "https://plot.ly"
       },
       "data": [
        {
         "mode": "lines+markers",
         "type": "scatter3d",
         "x": [
          1,
          2,
          2,
          1
         ],
         "y": [
          1,
          0,
          1,
          1
         ],
         "z": [
          1,
          1,
          1,
          1
         ]
        },
        {
         "mode": "lines+markers",
         "type": "scatter3d",
         "x": [
          2,
          1,
          1,
          2
         ],
         "y": [
          0,
          1,
          0,
          0
         ],
         "z": [
          1,
          1,
          1,
          1
         ]
        },
        {
         "mode": "lines+markers",
         "type": "scatter3d",
         "x": [
          1,
          2,
          2,
          1
         ],
         "y": [
          0,
          1,
          0,
          0
         ],
         "z": [
          0,
          0,
          0,
          0
         ]
        },
        {
         "mode": "lines+markers",
         "type": "scatter3d",
         "x": [
          2,
          1,
          1,
          2
         ],
         "y": [
          1,
          0,
          1,
          1
         ],
         "z": [
          0,
          0,
          0,
          0
         ]
        },
        {
         "mode": "lines+markers",
         "type": "scatter3d",
         "x": [
          1,
          2,
          1,
          1
         ],
         "y": [
          0,
          0,
          0,
          0
         ],
         "z": [
          0,
          1,
          1,
          0
         ]
        },
        {
         "mode": "lines+markers",
         "type": "scatter3d",
         "x": [
          2,
          1,
          2,
          2
         ],
         "y": [
          0,
          0,
          0,
          0
         ],
         "z": [
          1,
          0,
          0,
          1
         ]
        },
        {
         "mode": "lines+markers",
         "type": "scatter3d",
         "x": [
          2,
          2,
          2,
          2
         ],
         "y": [
          0,
          1,
          1,
          0
         ],
         "z": [
          1,
          0,
          1,
          1
         ]
        },
        {
         "mode": "lines+markers",
         "type": "scatter3d",
         "x": [
          2,
          2,
          2,
          2
         ],
         "y": [
          1,
          0,
          0,
          1
         ],
         "z": [
          0,
          1,
          0,
          0
         ]
        },
        {
         "mode": "lines+markers",
         "type": "scatter3d",
         "x": [
          2,
          1,
          2,
          2
         ],
         "y": [
          1,
          1,
          1,
          1
         ],
         "z": [
          0,
          1,
          1,
          0
         ]
        },
        {
         "mode": "lines+markers",
         "type": "scatter3d",
         "x": [
          1,
          2,
          1,
          1
         ],
         "y": [
          1,
          1,
          1,
          1
         ],
         "z": [
          1,
          0,
          0,
          1
         ]
        },
        {
         "mode": "lines+markers",
         "type": "scatter3d",
         "x": [
          1,
          1,
          1,
          1
         ],
         "y": [
          0,
          1,
          1,
          0
         ],
         "z": [
          0,
          1,
          0,
          0
         ]
        },
        {
         "mode": "lines+markers",
         "type": "scatter3d",
         "x": [
          1,
          1,
          1,
          1
         ],
         "y": [
          1,
          0,
          0,
          1
         ],
         "z": [
          1,
          0,
          1,
          1
         ]
        },
        {
         "mode": "lines+markers",
         "type": "scatter3d",
         "x": [
          0,
          1,
          1,
          0
         ],
         "y": [
          1,
          0,
          1,
          1
         ],
         "z": [
          1,
          1,
          1,
          1
         ]
        },
        {
         "mode": "lines+markers",
         "type": "scatter3d",
         "x": [
          1,
          0,
          0,
          1
         ],
         "y": [
          0,
          1,
          0,
          0
         ],
         "z": [
          1,
          1,
          1,
          1
         ]
        },
        {
         "mode": "lines+markers",
         "type": "scatter3d",
         "x": [
          0,
          1,
          1,
          0
         ],
         "y": [
          0,
          1,
          0,
          0
         ],
         "z": [
          0,
          0,
          0,
          0
         ]
        },
        {
         "mode": "lines+markers",
         "type": "scatter3d",
         "x": [
          1,
          0,
          0,
          1
         ],
         "y": [
          1,
          0,
          1,
          1
         ],
         "z": [
          0,
          0,
          0,
          0
         ]
        },
        {
         "mode": "lines+markers",
         "type": "scatter3d",
         "x": [
          0,
          1,
          0,
          0
         ],
         "y": [
          0,
          0,
          0,
          0
         ],
         "z": [
          0,
          1,
          1,
          0
         ]
        },
        {
         "mode": "lines+markers",
         "type": "scatter3d",
         "x": [
          1,
          0,
          1,
          1
         ],
         "y": [
          0,
          0,
          0,
          0
         ],
         "z": [
          1,
          0,
          0,
          1
         ]
        },
        {
         "mode": "lines+markers",
         "type": "scatter3d",
         "x": [
          1,
          1,
          1,
          1
         ],
         "y": [
          0,
          1,
          1,
          0
         ],
         "z": [
          1,
          0,
          1,
          1
         ]
        },
        {
         "mode": "lines+markers",
         "type": "scatter3d",
         "x": [
          1,
          1,
          1,
          1
         ],
         "y": [
          1,
          0,
          0,
          1
         ],
         "z": [
          0,
          1,
          0,
          0
         ]
        },
        {
         "mode": "lines+markers",
         "type": "scatter3d",
         "x": [
          1,
          0,
          1,
          1
         ],
         "y": [
          1,
          1,
          1,
          1
         ],
         "z": [
          0,
          1,
          1,
          0
         ]
        },
        {
         "mode": "lines+markers",
         "type": "scatter3d",
         "x": [
          0,
          1,
          0,
          0
         ],
         "y": [
          1,
          1,
          1,
          1
         ],
         "z": [
          1,
          0,
          0,
          1
         ]
        },
        {
         "mode": "lines+markers",
         "type": "scatter3d",
         "x": [
          0,
          0,
          0,
          0
         ],
         "y": [
          0,
          1,
          1,
          0
         ],
         "z": [
          0,
          1,
          0,
          0
         ]
        },
        {
         "mode": "lines+markers",
         "type": "scatter3d",
         "x": [
          0,
          0,
          0,
          0
         ],
         "y": [
          1,
          0,
          0,
          1
         ],
         "z": [
          1,
          0,
          1,
          1
         ]
        }
       ],
       "layout": {
        "scene": {
         "xaxis": {
          "title": {
           "text": "X"
          }
         },
         "yaxis": {
          "title": {
           "text": "Y"
          }
         },
         "zaxis": {
          "title": {
           "text": "Z"
          }
         }
        },
        "template": {
         "data": {
          "bar": [
           {
            "error_x": {
             "color": "#2a3f5f"
            },
            "error_y": {
             "color": "#2a3f5f"
            },
            "marker": {
             "line": {
              "color": "#E5ECF6",
              "width": 0.5
             },
             "pattern": {
              "fillmode": "overlay",
              "size": 10,
              "solidity": 0.2
             }
            },
            "type": "bar"
           }
          ],
          "barpolar": [
           {
            "marker": {
             "line": {
              "color": "#E5ECF6",
              "width": 0.5
             },
             "pattern": {
              "fillmode": "overlay",
              "size": 10,
              "solidity": 0.2
             }
            },
            "type": "barpolar"
           }
          ],
          "carpet": [
           {
            "aaxis": {
             "endlinecolor": "#2a3f5f",
             "gridcolor": "white",
             "linecolor": "white",
             "minorgridcolor": "white",
             "startlinecolor": "#2a3f5f"
            },
            "baxis": {
             "endlinecolor": "#2a3f5f",
             "gridcolor": "white",
             "linecolor": "white",
             "minorgridcolor": "white",
             "startlinecolor": "#2a3f5f"
            },
            "type": "carpet"
           }
          ],
          "choropleth": [
           {
            "colorbar": {
             "outlinewidth": 0,
             "ticks": ""
            },
            "type": "choropleth"
           }
          ],
          "contour": [
           {
            "colorbar": {
             "outlinewidth": 0,
             "ticks": ""
            },
            "colorscale": [
             [
              0,
              "#0d0887"
             ],
             [
              0.1111111111111111,
              "#46039f"
             ],
             [
              0.2222222222222222,
              "#7201a8"
             ],
             [
              0.3333333333333333,
              "#9c179e"
             ],
             [
              0.4444444444444444,
              "#bd3786"
             ],
             [
              0.5555555555555556,
              "#d8576b"
             ],
             [
              0.6666666666666666,
              "#ed7953"
             ],
             [
              0.7777777777777778,
              "#fb9f3a"
             ],
             [
              0.8888888888888888,
              "#fdca26"
             ],
             [
              1,
              "#f0f921"
             ]
            ],
            "type": "contour"
           }
          ],
          "contourcarpet": [
           {
            "colorbar": {
             "outlinewidth": 0,
             "ticks": ""
            },
            "type": "contourcarpet"
           }
          ],
          "heatmap": [
           {
            "colorbar": {
             "outlinewidth": 0,
             "ticks": ""
            },
            "colorscale": [
             [
              0,
              "#0d0887"
             ],
             [
              0.1111111111111111,
              "#46039f"
             ],
             [
              0.2222222222222222,
              "#7201a8"
             ],
             [
              0.3333333333333333,
              "#9c179e"
             ],
             [
              0.4444444444444444,
              "#bd3786"
             ],
             [
              0.5555555555555556,
              "#d8576b"
             ],
             [
              0.6666666666666666,
              "#ed7953"
             ],
             [
              0.7777777777777778,
              "#fb9f3a"
             ],
             [
              0.8888888888888888,
              "#fdca26"
             ],
             [
              1,
              "#f0f921"
             ]
            ],
            "type": "heatmap"
           }
          ],
          "heatmapgl": [
           {
            "colorbar": {
             "outlinewidth": 0,
             "ticks": ""
            },
            "colorscale": [
             [
              0,
              "#0d0887"
             ],
             [
              0.1111111111111111,
              "#46039f"
             ],
             [
              0.2222222222222222,
              "#7201a8"
             ],
             [
              0.3333333333333333,
              "#9c179e"
             ],
             [
              0.4444444444444444,
              "#bd3786"
             ],
             [
              0.5555555555555556,
              "#d8576b"
             ],
             [
              0.6666666666666666,
              "#ed7953"
             ],
             [
              0.7777777777777778,
              "#fb9f3a"
             ],
             [
              0.8888888888888888,
              "#fdca26"
             ],
             [
              1,
              "#f0f921"
             ]
            ],
            "type": "heatmapgl"
           }
          ],
          "histogram": [
           {
            "marker": {
             "pattern": {
              "fillmode": "overlay",
              "size": 10,
              "solidity": 0.2
             }
            },
            "type": "histogram"
           }
          ],
          "histogram2d": [
           {
            "colorbar": {
             "outlinewidth": 0,
             "ticks": ""
            },
            "colorscale": [
             [
              0,
              "#0d0887"
             ],
             [
              0.1111111111111111,
              "#46039f"
             ],
             [
              0.2222222222222222,
              "#7201a8"
             ],
             [
              0.3333333333333333,
              "#9c179e"
             ],
             [
              0.4444444444444444,
              "#bd3786"
             ],
             [
              0.5555555555555556,
              "#d8576b"
             ],
             [
              0.6666666666666666,
              "#ed7953"
             ],
             [
              0.7777777777777778,
              "#fb9f3a"
             ],
             [
              0.8888888888888888,
              "#fdca26"
             ],
             [
              1,
              "#f0f921"
             ]
            ],
            "type": "histogram2d"
           }
          ],
          "histogram2dcontour": [
           {
            "colorbar": {
             "outlinewidth": 0,
             "ticks": ""
            },
            "colorscale": [
             [
              0,
              "#0d0887"
             ],
             [
              0.1111111111111111,
              "#46039f"
             ],
             [
              0.2222222222222222,
              "#7201a8"
             ],
             [
              0.3333333333333333,
              "#9c179e"
             ],
             [
              0.4444444444444444,
              "#bd3786"
             ],
             [
              0.5555555555555556,
              "#d8576b"
             ],
             [
              0.6666666666666666,
              "#ed7953"
             ],
             [
              0.7777777777777778,
              "#fb9f3a"
             ],
             [
              0.8888888888888888,
              "#fdca26"
             ],
             [
              1,
              "#f0f921"
             ]
            ],
            "type": "histogram2dcontour"
           }
          ],
          "mesh3d": [
           {
            "colorbar": {
             "outlinewidth": 0,
             "ticks": ""
            },
            "type": "mesh3d"
           }
          ],
          "parcoords": [
           {
            "line": {
             "colorbar": {
              "outlinewidth": 0,
              "ticks": ""
             }
            },
            "type": "parcoords"
           }
          ],
          "pie": [
           {
            "automargin": true,
            "type": "pie"
           }
          ],
          "scatter": [
           {
            "fillpattern": {
             "fillmode": "overlay",
             "size": 10,
             "solidity": 0.2
            },
            "type": "scatter"
           }
          ],
          "scatter3d": [
           {
            "line": {
             "colorbar": {
              "outlinewidth": 0,
              "ticks": ""
             }
            },
            "marker": {
             "colorbar": {
              "outlinewidth": 0,
              "ticks": ""
             }
            },
            "type": "scatter3d"
           }
          ],
          "scattercarpet": [
           {
            "marker": {
             "colorbar": {
              "outlinewidth": 0,
              "ticks": ""
             }
            },
            "type": "scattercarpet"
           }
          ],
          "scattergeo": [
           {
            "marker": {
             "colorbar": {
              "outlinewidth": 0,
              "ticks": ""
             }
            },
            "type": "scattergeo"
           }
          ],
          "scattergl": [
           {
            "marker": {
             "colorbar": {
              "outlinewidth": 0,
              "ticks": ""
             }
            },
            "type": "scattergl"
           }
          ],
          "scattermapbox": [
           {
            "marker": {
             "colorbar": {
              "outlinewidth": 0,
              "ticks": ""
             }
            },
            "type": "scattermapbox"
           }
          ],
          "scatterpolar": [
           {
            "marker": {
             "colorbar": {
              "outlinewidth": 0,
              "ticks": ""
             }
            },
            "type": "scatterpolar"
           }
          ],
          "scatterpolargl": [
           {
            "marker": {
             "colorbar": {
              "outlinewidth": 0,
              "ticks": ""
             }
            },
            "type": "scatterpolargl"
           }
          ],
          "scatterternary": [
           {
            "marker": {
             "colorbar": {
              "outlinewidth": 0,
              "ticks": ""
             }
            },
            "type": "scatterternary"
           }
          ],
          "surface": [
           {
            "colorbar": {
             "outlinewidth": 0,
             "ticks": ""
            },
            "colorscale": [
             [
              0,
              "#0d0887"
             ],
             [
              0.1111111111111111,
              "#46039f"
             ],
             [
              0.2222222222222222,
              "#7201a8"
             ],
             [
              0.3333333333333333,
              "#9c179e"
             ],
             [
              0.4444444444444444,
              "#bd3786"
             ],
             [
              0.5555555555555556,
              "#d8576b"
             ],
             [
              0.6666666666666666,
              "#ed7953"
             ],
             [
              0.7777777777777778,
              "#fb9f3a"
             ],
             [
              0.8888888888888888,
              "#fdca26"
             ],
             [
              1,
              "#f0f921"
             ]
            ],
            "type": "surface"
           }
          ],
          "table": [
           {
            "cells": {
             "fill": {
              "color": "#EBF0F8"
             },
             "line": {
              "color": "white"
             }
            },
            "header": {
             "fill": {
              "color": "#C8D4E3"
             },
             "line": {
              "color": "white"
             }
            },
            "type": "table"
           }
          ]
         },
         "layout": {
          "annotationdefaults": {
           "arrowcolor": "#2a3f5f",
           "arrowhead": 0,
           "arrowwidth": 1
          },
          "autotypenumbers": "strict",
          "coloraxis": {
           "colorbar": {
            "outlinewidth": 0,
            "ticks": ""
           }
          },
          "colorscale": {
           "diverging": [
            [
             0,
             "#8e0152"
            ],
            [
             0.1,
             "#c51b7d"
            ],
            [
             0.2,
             "#de77ae"
            ],
            [
             0.3,
             "#f1b6da"
            ],
            [
             0.4,
             "#fde0ef"
            ],
            [
             0.5,
             "#f7f7f7"
            ],
            [
             0.6,
             "#e6f5d0"
            ],
            [
             0.7,
             "#b8e186"
            ],
            [
             0.8,
             "#7fbc41"
            ],
            [
             0.9,
             "#4d9221"
            ],
            [
             1,
             "#276419"
            ]
           ],
           "sequential": [
            [
             0,
             "#0d0887"
            ],
            [
             0.1111111111111111,
             "#46039f"
            ],
            [
             0.2222222222222222,
             "#7201a8"
            ],
            [
             0.3333333333333333,
             "#9c179e"
            ],
            [
             0.4444444444444444,
             "#bd3786"
            ],
            [
             0.5555555555555556,
             "#d8576b"
            ],
            [
             0.6666666666666666,
             "#ed7953"
            ],
            [
             0.7777777777777778,
             "#fb9f3a"
            ],
            [
             0.8888888888888888,
             "#fdca26"
            ],
            [
             1,
             "#f0f921"
            ]
           ],
           "sequentialminus": [
            [
             0,
             "#0d0887"
            ],
            [
             0.1111111111111111,
             "#46039f"
            ],
            [
             0.2222222222222222,
             "#7201a8"
            ],
            [
             0.3333333333333333,
             "#9c179e"
            ],
            [
             0.4444444444444444,
             "#bd3786"
            ],
            [
             0.5555555555555556,
             "#d8576b"
            ],
            [
             0.6666666666666666,
             "#ed7953"
            ],
            [
             0.7777777777777778,
             "#fb9f3a"
            ],
            [
             0.8888888888888888,
             "#fdca26"
            ],
            [
             1,
             "#f0f921"
            ]
           ]
          },
          "colorway": [
           "#636efa",
           "#EF553B",
           "#00cc96",
           "#ab63fa",
           "#FFA15A",
           "#19d3f3",
           "#FF6692",
           "#B6E880",
           "#FF97FF",
           "#FECB52"
          ],
          "font": {
           "color": "#2a3f5f"
          },
          "geo": {
           "bgcolor": "white",
           "lakecolor": "white",
           "landcolor": "#E5ECF6",
           "showlakes": true,
           "showland": true,
           "subunitcolor": "white"
          },
          "hoverlabel": {
           "align": "left"
          },
          "hovermode": "closest",
          "mapbox": {
           "style": "light"
          },
          "paper_bgcolor": "white",
          "plot_bgcolor": "#E5ECF6",
          "polar": {
           "angularaxis": {
            "gridcolor": "white",
            "linecolor": "white",
            "ticks": ""
           },
           "bgcolor": "#E5ECF6",
           "radialaxis": {
            "gridcolor": "white",
            "linecolor": "white",
            "ticks": ""
           }
          },
          "scene": {
           "xaxis": {
            "backgroundcolor": "#E5ECF6",
            "gridcolor": "white",
            "gridwidth": 2,
            "linecolor": "white",
            "showbackground": true,
            "ticks": "",
            "zerolinecolor": "white"
           },
           "yaxis": {
            "backgroundcolor": "#E5ECF6",
            "gridcolor": "white",
            "gridwidth": 2,
            "linecolor": "white",
            "showbackground": true,
            "ticks": "",
            "zerolinecolor": "white"
           },
           "zaxis": {
            "backgroundcolor": "#E5ECF6",
            "gridcolor": "white",
            "gridwidth": 2,
            "linecolor": "white",
            "showbackground": true,
            "ticks": "",
            "zerolinecolor": "white"
           }
          },
          "shapedefaults": {
           "line": {
            "color": "#2a3f5f"
           }
          },
          "ternary": {
           "aaxis": {
            "gridcolor": "white",
            "linecolor": "white",
            "ticks": ""
           },
           "baxis": {
            "gridcolor": "white",
            "linecolor": "white",
            "ticks": ""
           },
           "bgcolor": "#E5ECF6",
           "caxis": {
            "gridcolor": "white",
            "linecolor": "white",
            "ticks": ""
           }
          },
          "title": {
           "x": 0.05
          },
          "xaxis": {
           "automargin": true,
           "gridcolor": "white",
           "linecolor": "white",
           "ticks": "",
           "title": {
            "standoff": 15
           },
           "zerolinecolor": "white",
           "zerolinewidth": 2
          },
          "yaxis": {
           "automargin": true,
           "gridcolor": "white",
           "linecolor": "white",
           "ticks": "",
           "title": {
            "standoff": 15
           },
           "zerolinecolor": "white",
           "zerolinewidth": 2
          }
         }
        },
        "title": {
         "text": ""
        }
       }
      }
     },
     "metadata": {},
     "output_type": "display_data"
    }
   ],
   "source": [
    "newFaces = translate_faces(facesTwo, [1, 0, 0])\n",
    "\n",
    "print(aabb(newFaces, facesTwo))\n",
    "\n",
    "visualize_stl_objects(newFaces, facesTwo, title=\"\", size=None)"
   ]
  },
  {
   "cell_type": "code",
   "execution_count": 20,
   "metadata": {},
   "outputs": [],
   "source": [
    "def distance_points(pointOne, pointTwo):\n",
    "    return np.linalg.norm(pointOne - pointTwo)"
   ]
  },
  {
   "cell_type": "code",
   "execution_count": 21,
   "metadata": {},
   "outputs": [
    {
     "name": "stdout",
     "output_type": "stream",
     "text": [
      "2.0615528128088303\n"
     ]
    }
   ],
   "source": [
    "print(distance_points(centroid(newFaces), centroid(facesTwo)))"
   ]
  },
  {
   "cell_type": "code",
   "execution_count": 27,
   "metadata": {},
   "outputs": [],
   "source": [
    "from TriangleInteresects import tri_tri_intersect_with_isectline\n",
    "\n",
    "\n",
    "def faces_intersection(faces1, faces2):\n",
    "    for face1 in faces1:\n",
    "        for face2 in faces2:\n",
    "            if tri_tri_intersect_with_isectline(\n",
    "                face1[0], face1[1], face1[2], face2[0], face2[1], face2[2]\n",
    "            ):\n",
    "                return True\n",
    "    return False"
   ]
  },
  {
   "cell_type": "code",
   "execution_count": 28,
   "metadata": {},
   "outputs": [
    {
     "name": "stdout",
     "output_type": "stream",
     "text": [
      "True\n"
     ]
    }
   ],
   "source": [
    "print(faces_intersection(newFaces, facesTwo))"
   ]
  },
  {
   "cell_type": "code",
   "execution_count": 30,
   "metadata": {},
   "outputs": [
    {
     "name": "stdout",
     "output_type": "stream",
     "text": [
      "[8 8 4]\n",
      "[[0. 1.]\n",
      " [0. 1.]\n",
      " [0. 1.]]\n"
     ]
    }
   ],
   "source": [
    "print(size)\n",
    "print(object_borders(facesTwo))"
   ]
  },
  {
   "cell_type": "code",
   "execution_count": null,
   "metadata": {},
   "outputs": [],
   "source": [
    "def object_in_plane(faces, size):\n",
    "  borders = object_borders(faces)\n",
    "\n",
    "  if "
   ]
  }
 ],
 "metadata": {
  "kernelspec": {
   "display_name": ".venv",
   "language": "python",
   "name": "python3"
  },
  "language_info": {
   "codemirror_mode": {
    "name": "ipython",
    "version": 3
   },
   "file_extension": ".py",
   "mimetype": "text/x-python",
   "name": "python",
   "nbconvert_exporter": "python",
   "pygments_lexer": "ipython3",
   "version": "3.11.2"
  },
  "orig_nbformat": 4
 },
 "nbformat": 4,
 "nbformat_minor": 2
}
