{
 "cells": [
  {
   "cell_type": "markdown",
   "metadata": {},
   "source": [
    "### ToDo\n",
    "\n",
    "- [ ] load stl\n",
    "- [ ] create bounding box + AABB algo\n",
    "- [ ] calculate center of mass\n",
    "- [ ] place 1. stl object into middle (by center of mass)\n",
    "- [ ] randomly place 2. object:\n",
    "      y ^\n",
    "      |\n",
    "      |\n",
    "      ------>\n",
    "      | x\n",
    "\n",
    "- move only x, y and rotate on x-y-plane\n",
    "- remove all objects which are out of plane (AABB)\n",
    "- get all distancs of center of mass\n",
    "- take closest object (by center of mass), check for collision by AABB -> if none use it / if yes -> check for triangle collisions -> if yes take next (repeat) -> if none stop\n"
   ]
  },
  {
   "cell_type": "markdown",
   "metadata": {},
   "source": [
    "## Install dependencies\n"
   ]
  },
  {
   "cell_type": "code",
   "execution_count": 1,
   "metadata": {},
   "outputs": [
    {
     "name": "stdout",
     "output_type": "stream",
     "text": [
      "Requirement already satisfied: numpy in /home/heitzlki/Code/3d-object-placing/.venv/lib/python3.11/site-packages (1.25.2)\n",
      "Requirement already satisfied: plotly in /home/heitzlki/Code/3d-object-placing/.venv/lib/python3.11/site-packages (5.15.0)\n",
      "Requirement already satisfied: tenacity>=6.2.0 in /home/heitzlki/Code/3d-object-placing/.venv/lib/python3.11/site-packages (from plotly) (8.2.2)\n",
      "Requirement already satisfied: packaging in /home/heitzlki/Code/3d-object-placing/.venv/lib/python3.11/site-packages (from plotly) (23.1)\n",
      "Note: you may need to restart the kernel to use updated packages.\n"
     ]
    }
   ],
   "source": [
    "%pip install numpy plotly"
   ]
  },
  {
   "cell_type": "markdown",
   "metadata": {},
   "source": [
    "## Read STL file's\n"
   ]
  },
  {
   "cell_type": "code",
   "execution_count": 6,
   "metadata": {},
   "outputs": [],
   "source": [
    "from read_stl import read_stl_file\n",
    "\n",
    "# First STL file\n",
    "faces1, vertices1 = read_stl_file(\"../cube.stl\")\n",
    "\n",
    "# Second STL file\n",
    "faces2, vertices2 = read_stl_file(\"../cube.stl\")"
   ]
  },
  {
   "cell_type": "markdown",
   "metadata": {},
   "source": []
  },
  {
   "cell_type": "code",
   "execution_count": 5,
   "metadata": {},
   "outputs": [
    {
     "name": "stdout",
     "output_type": "stream",
     "text": [
      "Faces: (12, 3, 3)\n",
      "Vertices: (8, 3)\n",
      "Shape 1:  (3, 3)\n",
      "Data 1: [[0. 4. 6.]\n",
      " [2. 0. 6.]\n",
      " [2. 4. 6.]]\n",
      "Shape 2:  (3, 3)\n",
      "Data 2:  [[2. 0. 6.]\n",
      " [0. 4. 6.]\n",
      " [0. 0. 6.]]\n"
     ]
    },
    {
     "data": {
      "text/plain": [
       "True"
      ]
     },
     "execution_count": 5,
     "metadata": {},
     "output_type": "execute_result"
    }
   ],
   "source": [
    "print(\"Faces:\", faces.shape)\n",
    "print(\"Vertices:\", vertices.shape)\n",
    "\n",
    "print(\"Shape 1: \", faces[0].shape)\n",
    "print(\"Data 1:\", faces[0])\n",
    "print(\"Shape 2: \", faces[1].shape)\n",
    "print(\"Data 2: \", faces[1])\n",
    "\n",
    "separating_axis_theorem(faces[0], faces[1])"
   ]
  }
 ],
 "metadata": {
  "kernelspec": {
   "display_name": ".venv",
   "language": "python",
   "name": "python3"
  },
  "language_info": {
   "codemirror_mode": {
    "name": "ipython",
    "version": 3
   },
   "file_extension": ".py",
   "mimetype": "text/x-python",
   "name": "python",
   "nbconvert_exporter": "python",
   "pygments_lexer": "ipython3",
   "version": "3.11.2"
  },
  "orig_nbformat": 4
 },
 "nbformat": 4,
 "nbformat_minor": 2
}
