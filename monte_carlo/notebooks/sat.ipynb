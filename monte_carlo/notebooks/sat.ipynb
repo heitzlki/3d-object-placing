{
 "cells": [
  {
   "cell_type": "code",
   "execution_count": 1,
   "metadata": {},
   "outputs": [
    {
     "name": "stdout",
     "output_type": "stream",
     "text": [
      "Requirement already satisfied: numpy in /home/heitzlki/Code/3d-object-placing/.venv/lib/python3.11/site-packages (1.25.2)\n",
      "Requirement already satisfied: plotly in /home/heitzlki/Code/3d-object-placing/.venv/lib/python3.11/site-packages (5.15.0)\n",
      "Requirement already satisfied: tenacity>=6.2.0 in /home/heitzlki/Code/3d-object-placing/.venv/lib/python3.11/site-packages (from plotly) (8.2.2)\n",
      "Requirement already satisfied: packaging in /home/heitzlki/Code/3d-object-placing/.venv/lib/python3.11/site-packages (from plotly) (23.1)\n",
      "Note: you may need to restart the kernel to use updated packages.\n"
     ]
    }
   ],
   "source": [
    "%pip install numpy plotly"
   ]
  },
  {
   "cell_type": "code",
   "execution_count": 2,
   "metadata": {},
   "outputs": [],
   "source": [
    "import plotly.graph_objects as go\n",
    "\n",
    "\n",
    "def visualize_triangle(*args, title=\"Triangle\"):\n",
    "    fig = go.Figure()\n",
    "\n",
    "    for index, triangle in enumerate(args):\n",
    "        x, y, z = triangle.T\n",
    "        fig.add_trace(\n",
    "            go.Scatter3d(\n",
    "                x=np.concatenate([x, [x[0]]]),\n",
    "                y=np.concatenate([y, [y[0]]]),\n",
    "                z=np.concatenate([z, [z[0]]]),\n",
    "                mode=\"lines+markers\",\n",
    "                name=f\"Triangle {index}\",\n",
    "            )\n",
    "        )\n",
    "\n",
    "    fig.update_layout(\n",
    "        scene=dict(xaxis_title=\"X\", yaxis_title=\"Y\", zaxis_title=\"Z\"), title=title\n",
    "    )\n",
    "\n",
    "    fig.show()"
   ]
  },
  {
   "cell_type": "code",
   "execution_count": 3,
   "metadata": {},
   "outputs": [
    {
     "data": {
      "application/vnd.plotly.v1+json": {
       "config": {
        "plotlyServerURL": "https://plot.ly"
       },
       "data": [
        {
         "mode": "lines+markers",
         "name": "Triangle 0",
         "type": "scatter3d",
         "x": [
          0,
          0,
          0,
          0
         ],
         "y": [
          0,
          0,
          1,
          0
         ],
         "z": [
          0,
          1,
          0,
          0
         ]
        },
        {
         "mode": "lines+markers",
         "name": "Triangle 1",
         "type": "scatter3d",
         "x": [
          0,
          0,
          0,
          0
         ],
         "y": [
          1,
          1,
          2,
          1
         ],
         "z": [
          1,
          2,
          1,
          1
         ]
        }
       ],
       "layout": {
        "scene": {
         "xaxis": {
          "title": {
           "text": "X"
          }
         },
         "yaxis": {
          "title": {
           "text": "Y"
          }
         },
         "zaxis": {
          "title": {
           "text": "Z"
          }
         }
        },
        "template": {
         "data": {
          "bar": [
           {
            "error_x": {
             "color": "#2a3f5f"
            },
            "error_y": {
             "color": "#2a3f5f"
            },
            "marker": {
             "line": {
              "color": "#E5ECF6",
              "width": 0.5
             },
             "pattern": {
              "fillmode": "overlay",
              "size": 10,
              "solidity": 0.2
             }
            },
            "type": "bar"
           }
          ],
          "barpolar": [
           {
            "marker": {
             "line": {
              "color": "#E5ECF6",
              "width": 0.5
             },
             "pattern": {
              "fillmode": "overlay",
              "size": 10,
              "solidity": 0.2
             }
            },
            "type": "barpolar"
           }
          ],
          "carpet": [
           {
            "aaxis": {
             "endlinecolor": "#2a3f5f",
             "gridcolor": "white",
             "linecolor": "white",
             "minorgridcolor": "white",
             "startlinecolor": "#2a3f5f"
            },
            "baxis": {
             "endlinecolor": "#2a3f5f",
             "gridcolor": "white",
             "linecolor": "white",
             "minorgridcolor": "white",
             "startlinecolor": "#2a3f5f"
            },
            "type": "carpet"
           }
          ],
          "choropleth": [
           {
            "colorbar": {
             "outlinewidth": 0,
             "ticks": ""
            },
            "type": "choropleth"
           }
          ],
          "contour": [
           {
            "colorbar": {
             "outlinewidth": 0,
             "ticks": ""
            },
            "colorscale": [
             [
              0,
              "#0d0887"
             ],
             [
              0.1111111111111111,
              "#46039f"
             ],
             [
              0.2222222222222222,
              "#7201a8"
             ],
             [
              0.3333333333333333,
              "#9c179e"
             ],
             [
              0.4444444444444444,
              "#bd3786"
             ],
             [
              0.5555555555555556,
              "#d8576b"
             ],
             [
              0.6666666666666666,
              "#ed7953"
             ],
             [
              0.7777777777777778,
              "#fb9f3a"
             ],
             [
              0.8888888888888888,
              "#fdca26"
             ],
             [
              1,
              "#f0f921"
             ]
            ],
            "type": "contour"
           }
          ],
          "contourcarpet": [
           {
            "colorbar": {
             "outlinewidth": 0,
             "ticks": ""
            },
            "type": "contourcarpet"
           }
          ],
          "heatmap": [
           {
            "colorbar": {
             "outlinewidth": 0,
             "ticks": ""
            },
            "colorscale": [
             [
              0,
              "#0d0887"
             ],
             [
              0.1111111111111111,
              "#46039f"
             ],
             [
              0.2222222222222222,
              "#7201a8"
             ],
             [
              0.3333333333333333,
              "#9c179e"
             ],
             [
              0.4444444444444444,
              "#bd3786"
             ],
             [
              0.5555555555555556,
              "#d8576b"
             ],
             [
              0.6666666666666666,
              "#ed7953"
             ],
             [
              0.7777777777777778,
              "#fb9f3a"
             ],
             [
              0.8888888888888888,
              "#fdca26"
             ],
             [
              1,
              "#f0f921"
             ]
            ],
            "type": "heatmap"
           }
          ],
          "heatmapgl": [
           {
            "colorbar": {
             "outlinewidth": 0,
             "ticks": ""
            },
            "colorscale": [
             [
              0,
              "#0d0887"
             ],
             [
              0.1111111111111111,
              "#46039f"
             ],
             [
              0.2222222222222222,
              "#7201a8"
             ],
             [
              0.3333333333333333,
              "#9c179e"
             ],
             [
              0.4444444444444444,
              "#bd3786"
             ],
             [
              0.5555555555555556,
              "#d8576b"
             ],
             [
              0.6666666666666666,
              "#ed7953"
             ],
             [
              0.7777777777777778,
              "#fb9f3a"
             ],
             [
              0.8888888888888888,
              "#fdca26"
             ],
             [
              1,
              "#f0f921"
             ]
            ],
            "type": "heatmapgl"
           }
          ],
          "histogram": [
           {
            "marker": {
             "pattern": {
              "fillmode": "overlay",
              "size": 10,
              "solidity": 0.2
             }
            },
            "type": "histogram"
           }
          ],
          "histogram2d": [
           {
            "colorbar": {
             "outlinewidth": 0,
             "ticks": ""
            },
            "colorscale": [
             [
              0,
              "#0d0887"
             ],
             [
              0.1111111111111111,
              "#46039f"
             ],
             [
              0.2222222222222222,
              "#7201a8"
             ],
             [
              0.3333333333333333,
              "#9c179e"
             ],
             [
              0.4444444444444444,
              "#bd3786"
             ],
             [
              0.5555555555555556,
              "#d8576b"
             ],
             [
              0.6666666666666666,
              "#ed7953"
             ],
             [
              0.7777777777777778,
              "#fb9f3a"
             ],
             [
              0.8888888888888888,
              "#fdca26"
             ],
             [
              1,
              "#f0f921"
             ]
            ],
            "type": "histogram2d"
           }
          ],
          "histogram2dcontour": [
           {
            "colorbar": {
             "outlinewidth": 0,
             "ticks": ""
            },
            "colorscale": [
             [
              0,
              "#0d0887"
             ],
             [
              0.1111111111111111,
              "#46039f"
             ],
             [
              0.2222222222222222,
              "#7201a8"
             ],
             [
              0.3333333333333333,
              "#9c179e"
             ],
             [
              0.4444444444444444,
              "#bd3786"
             ],
             [
              0.5555555555555556,
              "#d8576b"
             ],
             [
              0.6666666666666666,
              "#ed7953"
             ],
             [
              0.7777777777777778,
              "#fb9f3a"
             ],
             [
              0.8888888888888888,
              "#fdca26"
             ],
             [
              1,
              "#f0f921"
             ]
            ],
            "type": "histogram2dcontour"
           }
          ],
          "mesh3d": [
           {
            "colorbar": {
             "outlinewidth": 0,
             "ticks": ""
            },
            "type": "mesh3d"
           }
          ],
          "parcoords": [
           {
            "line": {
             "colorbar": {
              "outlinewidth": 0,
              "ticks": ""
             }
            },
            "type": "parcoords"
           }
          ],
          "pie": [
           {
            "automargin": true,
            "type": "pie"
           }
          ],
          "scatter": [
           {
            "fillpattern": {
             "fillmode": "overlay",
             "size": 10,
             "solidity": 0.2
            },
            "type": "scatter"
           }
          ],
          "scatter3d": [
           {
            "line": {
             "colorbar": {
              "outlinewidth": 0,
              "ticks": ""
             }
            },
            "marker": {
             "colorbar": {
              "outlinewidth": 0,
              "ticks": ""
             }
            },
            "type": "scatter3d"
           }
          ],
          "scattercarpet": [
           {
            "marker": {
             "colorbar": {
              "outlinewidth": 0,
              "ticks": ""
             }
            },
            "type": "scattercarpet"
           }
          ],
          "scattergeo": [
           {
            "marker": {
             "colorbar": {
              "outlinewidth": 0,
              "ticks": ""
             }
            },
            "type": "scattergeo"
           }
          ],
          "scattergl": [
           {
            "marker": {
             "colorbar": {
              "outlinewidth": 0,
              "ticks": ""
             }
            },
            "type": "scattergl"
           }
          ],
          "scattermapbox": [
           {
            "marker": {
             "colorbar": {
              "outlinewidth": 0,
              "ticks": ""
             }
            },
            "type": "scattermapbox"
           }
          ],
          "scatterpolar": [
           {
            "marker": {
             "colorbar": {
              "outlinewidth": 0,
              "ticks": ""
             }
            },
            "type": "scatterpolar"
           }
          ],
          "scatterpolargl": [
           {
            "marker": {
             "colorbar": {
              "outlinewidth": 0,
              "ticks": ""
             }
            },
            "type": "scatterpolargl"
           }
          ],
          "scatterternary": [
           {
            "marker": {
             "colorbar": {
              "outlinewidth": 0,
              "ticks": ""
             }
            },
            "type": "scatterternary"
           }
          ],
          "surface": [
           {
            "colorbar": {
             "outlinewidth": 0,
             "ticks": ""
            },
            "colorscale": [
             [
              0,
              "#0d0887"
             ],
             [
              0.1111111111111111,
              "#46039f"
             ],
             [
              0.2222222222222222,
              "#7201a8"
             ],
             [
              0.3333333333333333,
              "#9c179e"
             ],
             [
              0.4444444444444444,
              "#bd3786"
             ],
             [
              0.5555555555555556,
              "#d8576b"
             ],
             [
              0.6666666666666666,
              "#ed7953"
             ],
             [
              0.7777777777777778,
              "#fb9f3a"
             ],
             [
              0.8888888888888888,
              "#fdca26"
             ],
             [
              1,
              "#f0f921"
             ]
            ],
            "type": "surface"
           }
          ],
          "table": [
           {
            "cells": {
             "fill": {
              "color": "#EBF0F8"
             },
             "line": {
              "color": "white"
             }
            },
            "header": {
             "fill": {
              "color": "#C8D4E3"
             },
             "line": {
              "color": "white"
             }
            },
            "type": "table"
           }
          ]
         },
         "layout": {
          "annotationdefaults": {
           "arrowcolor": "#2a3f5f",
           "arrowhead": 0,
           "arrowwidth": 1
          },
          "autotypenumbers": "strict",
          "coloraxis": {
           "colorbar": {
            "outlinewidth": 0,
            "ticks": ""
           }
          },
          "colorscale": {
           "diverging": [
            [
             0,
             "#8e0152"
            ],
            [
             0.1,
             "#c51b7d"
            ],
            [
             0.2,
             "#de77ae"
            ],
            [
             0.3,
             "#f1b6da"
            ],
            [
             0.4,
             "#fde0ef"
            ],
            [
             0.5,
             "#f7f7f7"
            ],
            [
             0.6,
             "#e6f5d0"
            ],
            [
             0.7,
             "#b8e186"
            ],
            [
             0.8,
             "#7fbc41"
            ],
            [
             0.9,
             "#4d9221"
            ],
            [
             1,
             "#276419"
            ]
           ],
           "sequential": [
            [
             0,
             "#0d0887"
            ],
            [
             0.1111111111111111,
             "#46039f"
            ],
            [
             0.2222222222222222,
             "#7201a8"
            ],
            [
             0.3333333333333333,
             "#9c179e"
            ],
            [
             0.4444444444444444,
             "#bd3786"
            ],
            [
             0.5555555555555556,
             "#d8576b"
            ],
            [
             0.6666666666666666,
             "#ed7953"
            ],
            [
             0.7777777777777778,
             "#fb9f3a"
            ],
            [
             0.8888888888888888,
             "#fdca26"
            ],
            [
             1,
             "#f0f921"
            ]
           ],
           "sequentialminus": [
            [
             0,
             "#0d0887"
            ],
            [
             0.1111111111111111,
             "#46039f"
            ],
            [
             0.2222222222222222,
             "#7201a8"
            ],
            [
             0.3333333333333333,
             "#9c179e"
            ],
            [
             0.4444444444444444,
             "#bd3786"
            ],
            [
             0.5555555555555556,
             "#d8576b"
            ],
            [
             0.6666666666666666,
             "#ed7953"
            ],
            [
             0.7777777777777778,
             "#fb9f3a"
            ],
            [
             0.8888888888888888,
             "#fdca26"
            ],
            [
             1,
             "#f0f921"
            ]
           ]
          },
          "colorway": [
           "#636efa",
           "#EF553B",
           "#00cc96",
           "#ab63fa",
           "#FFA15A",
           "#19d3f3",
           "#FF6692",
           "#B6E880",
           "#FF97FF",
           "#FECB52"
          ],
          "font": {
           "color": "#2a3f5f"
          },
          "geo": {
           "bgcolor": "white",
           "lakecolor": "white",
           "landcolor": "#E5ECF6",
           "showlakes": true,
           "showland": true,
           "subunitcolor": "white"
          },
          "hoverlabel": {
           "align": "left"
          },
          "hovermode": "closest",
          "mapbox": {
           "style": "light"
          },
          "paper_bgcolor": "white",
          "plot_bgcolor": "#E5ECF6",
          "polar": {
           "angularaxis": {
            "gridcolor": "white",
            "linecolor": "white",
            "ticks": ""
           },
           "bgcolor": "#E5ECF6",
           "radialaxis": {
            "gridcolor": "white",
            "linecolor": "white",
            "ticks": ""
           }
          },
          "scene": {
           "xaxis": {
            "backgroundcolor": "#E5ECF6",
            "gridcolor": "white",
            "gridwidth": 2,
            "linecolor": "white",
            "showbackground": true,
            "ticks": "",
            "zerolinecolor": "white"
           },
           "yaxis": {
            "backgroundcolor": "#E5ECF6",
            "gridcolor": "white",
            "gridwidth": 2,
            "linecolor": "white",
            "showbackground": true,
            "ticks": "",
            "zerolinecolor": "white"
           },
           "zaxis": {
            "backgroundcolor": "#E5ECF6",
            "gridcolor": "white",
            "gridwidth": 2,
            "linecolor": "white",
            "showbackground": true,
            "ticks": "",
            "zerolinecolor": "white"
           }
          },
          "shapedefaults": {
           "line": {
            "color": "#2a3f5f"
           }
          },
          "ternary": {
           "aaxis": {
            "gridcolor": "white",
            "linecolor": "white",
            "ticks": ""
           },
           "baxis": {
            "gridcolor": "white",
            "linecolor": "white",
            "ticks": ""
           },
           "bgcolor": "#E5ECF6",
           "caxis": {
            "gridcolor": "white",
            "linecolor": "white",
            "ticks": ""
           }
          },
          "title": {
           "x": 0.05
          },
          "xaxis": {
           "automargin": true,
           "gridcolor": "white",
           "linecolor": "white",
           "ticks": "",
           "title": {
            "standoff": 15
           },
           "zerolinecolor": "white",
           "zerolinewidth": 2
          },
          "yaxis": {
           "automargin": true,
           "gridcolor": "white",
           "linecolor": "white",
           "ticks": "",
           "title": {
            "standoff": 15
           },
           "zerolinecolor": "white",
           "zerolinewidth": 2
          }
         }
        },
        "title": {
         "text": "No intersection | Same plane"
        }
       }
      }
     },
     "metadata": {},
     "output_type": "display_data"
    }
   ],
   "source": [
    "import numpy as np\n",
    "\n",
    "visualize_triangle(\n",
    "    np.array([[0, 0, 0], [0, 0, 1], [0, 1, 0]]),\n",
    "    np.array([[0, 1, 1], [0, 1, 2], [0, 2, 1]]),\n",
    "    title=\"No intersection | Same plane\",\n",
    ")"
   ]
  },
  {
   "cell_type": "code",
   "execution_count": 4,
   "metadata": {},
   "outputs": [],
   "source": [
    "from plotly.subplots import make_subplots\n",
    "import numpy as np\n",
    "\n",
    "\n",
    "def visualize_triangle_grid(triangle_groups):\n",
    "    n_groups = len(triangle_groups)\n",
    "    nrows = int(np.ceil(np.sqrt(n_groups)))  # Arrange in a square grid\n",
    "    ncols = nrows\n",
    "\n",
    "    fig = make_subplots(\n",
    "        rows=nrows, cols=ncols, specs=[[{\"type\": \"scatter3d\"}] * ncols] * nrows\n",
    "    )\n",
    "\n",
    "    for group_index, triangle_group in enumerate(triangle_groups):\n",
    "        triangles = triangle_group[:-1]  # All but last elements are triangles\n",
    "        group_title = triangle_group[-1]  # Last element is the title\n",
    "        row = group_index // ncols + 1  # calculate row index for subplot\n",
    "        col = group_index % ncols + 1  # calculate column index for subplot\n",
    "\n",
    "        for triangle_index, triangle in enumerate(triangles):\n",
    "            x, y, z = triangle.T\n",
    "            fig.add_trace(\n",
    "                go.Scatter3d(\n",
    "                    x=np.concatenate([x, [x[0]]]),\n",
    "                    y=np.concatenate([y, [y[0]]]),\n",
    "                    z=np.concatenate([z, [z[0]]]),\n",
    "                    mode=\"lines+markers\",\n",
    "                    name=f\"{group_title} Triangle {triangle_index}\",\n",
    "                ),\n",
    "                row=row,\n",
    "                col=col,\n",
    "            )\n",
    "\n",
    "    fig.update_layout(height=400 * nrows, width=400 * ncols)\n",
    "\n",
    "    fig.show()"
   ]
  },
  {
   "cell_type": "code",
   "execution_count": 5,
   "metadata": {},
   "outputs": [
    {
     "data": {
      "application/vnd.plotly.v1+json": {
       "config": {
        "plotlyServerURL": "https://plot.ly"
       },
       "data": [
        {
         "mode": "lines+markers",
         "name": "Triangle 0",
         "type": "scatter3d",
         "x": [
          0,
          0,
          0,
          0
         ],
         "y": [
          0.2,
          0.2,
          1.2,
          0.2
         ],
         "z": [
          0,
          1,
          0.5,
          0
         ]
        }
       ],
       "layout": {
        "scene": {
         "xaxis": {
          "title": {
           "text": "X"
          }
         },
         "yaxis": {
          "title": {
           "text": "Y"
          }
         },
         "zaxis": {
          "title": {
           "text": "Z"
          }
         }
        },
        "template": {
         "data": {
          "bar": [
           {
            "error_x": {
             "color": "#2a3f5f"
            },
            "error_y": {
             "color": "#2a3f5f"
            },
            "marker": {
             "line": {
              "color": "#E5ECF6",
              "width": 0.5
             },
             "pattern": {
              "fillmode": "overlay",
              "size": 10,
              "solidity": 0.2
             }
            },
            "type": "bar"
           }
          ],
          "barpolar": [
           {
            "marker": {
             "line": {
              "color": "#E5ECF6",
              "width": 0.5
             },
             "pattern": {
              "fillmode": "overlay",
              "size": 10,
              "solidity": 0.2
             }
            },
            "type": "barpolar"
           }
          ],
          "carpet": [
           {
            "aaxis": {
             "endlinecolor": "#2a3f5f",
             "gridcolor": "white",
             "linecolor": "white",
             "minorgridcolor": "white",
             "startlinecolor": "#2a3f5f"
            },
            "baxis": {
             "endlinecolor": "#2a3f5f",
             "gridcolor": "white",
             "linecolor": "white",
             "minorgridcolor": "white",
             "startlinecolor": "#2a3f5f"
            },
            "type": "carpet"
           }
          ],
          "choropleth": [
           {
            "colorbar": {
             "outlinewidth": 0,
             "ticks": ""
            },
            "type": "choropleth"
           }
          ],
          "contour": [
           {
            "colorbar": {
             "outlinewidth": 0,
             "ticks": ""
            },
            "colorscale": [
             [
              0,
              "#0d0887"
             ],
             [
              0.1111111111111111,
              "#46039f"
             ],
             [
              0.2222222222222222,
              "#7201a8"
             ],
             [
              0.3333333333333333,
              "#9c179e"
             ],
             [
              0.4444444444444444,
              "#bd3786"
             ],
             [
              0.5555555555555556,
              "#d8576b"
             ],
             [
              0.6666666666666666,
              "#ed7953"
             ],
             [
              0.7777777777777778,
              "#fb9f3a"
             ],
             [
              0.8888888888888888,
              "#fdca26"
             ],
             [
              1,
              "#f0f921"
             ]
            ],
            "type": "contour"
           }
          ],
          "contourcarpet": [
           {
            "colorbar": {
             "outlinewidth": 0,
             "ticks": ""
            },
            "type": "contourcarpet"
           }
          ],
          "heatmap": [
           {
            "colorbar": {
             "outlinewidth": 0,
             "ticks": ""
            },
            "colorscale": [
             [
              0,
              "#0d0887"
             ],
             [
              0.1111111111111111,
              "#46039f"
             ],
             [
              0.2222222222222222,
              "#7201a8"
             ],
             [
              0.3333333333333333,
              "#9c179e"
             ],
             [
              0.4444444444444444,
              "#bd3786"
             ],
             [
              0.5555555555555556,
              "#d8576b"
             ],
             [
              0.6666666666666666,
              "#ed7953"
             ],
             [
              0.7777777777777778,
              "#fb9f3a"
             ],
             [
              0.8888888888888888,
              "#fdca26"
             ],
             [
              1,
              "#f0f921"
             ]
            ],
            "type": "heatmap"
           }
          ],
          "heatmapgl": [
           {
            "colorbar": {
             "outlinewidth": 0,
             "ticks": ""
            },
            "colorscale": [
             [
              0,
              "#0d0887"
             ],
             [
              0.1111111111111111,
              "#46039f"
             ],
             [
              0.2222222222222222,
              "#7201a8"
             ],
             [
              0.3333333333333333,
              "#9c179e"
             ],
             [
              0.4444444444444444,
              "#bd3786"
             ],
             [
              0.5555555555555556,
              "#d8576b"
             ],
             [
              0.6666666666666666,
              "#ed7953"
             ],
             [
              0.7777777777777778,
              "#fb9f3a"
             ],
             [
              0.8888888888888888,
              "#fdca26"
             ],
             [
              1,
              "#f0f921"
             ]
            ],
            "type": "heatmapgl"
           }
          ],
          "histogram": [
           {
            "marker": {
             "pattern": {
              "fillmode": "overlay",
              "size": 10,
              "solidity": 0.2
             }
            },
            "type": "histogram"
           }
          ],
          "histogram2d": [
           {
            "colorbar": {
             "outlinewidth": 0,
             "ticks": ""
            },
            "colorscale": [
             [
              0,
              "#0d0887"
             ],
             [
              0.1111111111111111,
              "#46039f"
             ],
             [
              0.2222222222222222,
              "#7201a8"
             ],
             [
              0.3333333333333333,
              "#9c179e"
             ],
             [
              0.4444444444444444,
              "#bd3786"
             ],
             [
              0.5555555555555556,
              "#d8576b"
             ],
             [
              0.6666666666666666,
              "#ed7953"
             ],
             [
              0.7777777777777778,
              "#fb9f3a"
             ],
             [
              0.8888888888888888,
              "#fdca26"
             ],
             [
              1,
              "#f0f921"
             ]
            ],
            "type": "histogram2d"
           }
          ],
          "histogram2dcontour": [
           {
            "colorbar": {
             "outlinewidth": 0,
             "ticks": ""
            },
            "colorscale": [
             [
              0,
              "#0d0887"
             ],
             [
              0.1111111111111111,
              "#46039f"
             ],
             [
              0.2222222222222222,
              "#7201a8"
             ],
             [
              0.3333333333333333,
              "#9c179e"
             ],
             [
              0.4444444444444444,
              "#bd3786"
             ],
             [
              0.5555555555555556,
              "#d8576b"
             ],
             [
              0.6666666666666666,
              "#ed7953"
             ],
             [
              0.7777777777777778,
              "#fb9f3a"
             ],
             [
              0.8888888888888888,
              "#fdca26"
             ],
             [
              1,
              "#f0f921"
             ]
            ],
            "type": "histogram2dcontour"
           }
          ],
          "mesh3d": [
           {
            "colorbar": {
             "outlinewidth": 0,
             "ticks": ""
            },
            "type": "mesh3d"
           }
          ],
          "parcoords": [
           {
            "line": {
             "colorbar": {
              "outlinewidth": 0,
              "ticks": ""
             }
            },
            "type": "parcoords"
           }
          ],
          "pie": [
           {
            "automargin": true,
            "type": "pie"
           }
          ],
          "scatter": [
           {
            "fillpattern": {
             "fillmode": "overlay",
             "size": 10,
             "solidity": 0.2
            },
            "type": "scatter"
           }
          ],
          "scatter3d": [
           {
            "line": {
             "colorbar": {
              "outlinewidth": 0,
              "ticks": ""
             }
            },
            "marker": {
             "colorbar": {
              "outlinewidth": 0,
              "ticks": ""
             }
            },
            "type": "scatter3d"
           }
          ],
          "scattercarpet": [
           {
            "marker": {
             "colorbar": {
              "outlinewidth": 0,
              "ticks": ""
             }
            },
            "type": "scattercarpet"
           }
          ],
          "scattergeo": [
           {
            "marker": {
             "colorbar": {
              "outlinewidth": 0,
              "ticks": ""
             }
            },
            "type": "scattergeo"
           }
          ],
          "scattergl": [
           {
            "marker": {
             "colorbar": {
              "outlinewidth": 0,
              "ticks": ""
             }
            },
            "type": "scattergl"
           }
          ],
          "scattermapbox": [
           {
            "marker": {
             "colorbar": {
              "outlinewidth": 0,
              "ticks": ""
             }
            },
            "type": "scattermapbox"
           }
          ],
          "scatterpolar": [
           {
            "marker": {
             "colorbar": {
              "outlinewidth": 0,
              "ticks": ""
             }
            },
            "type": "scatterpolar"
           }
          ],
          "scatterpolargl": [
           {
            "marker": {
             "colorbar": {
              "outlinewidth": 0,
              "ticks": ""
             }
            },
            "type": "scatterpolargl"
           }
          ],
          "scatterternary": [
           {
            "marker": {
             "colorbar": {
              "outlinewidth": 0,
              "ticks": ""
             }
            },
            "type": "scatterternary"
           }
          ],
          "surface": [
           {
            "colorbar": {
             "outlinewidth": 0,
             "ticks": ""
            },
            "colorscale": [
             [
              0,
              "#0d0887"
             ],
             [
              0.1111111111111111,
              "#46039f"
             ],
             [
              0.2222222222222222,
              "#7201a8"
             ],
             [
              0.3333333333333333,
              "#9c179e"
             ],
             [
              0.4444444444444444,
              "#bd3786"
             ],
             [
              0.5555555555555556,
              "#d8576b"
             ],
             [
              0.6666666666666666,
              "#ed7953"
             ],
             [
              0.7777777777777778,
              "#fb9f3a"
             ],
             [
              0.8888888888888888,
              "#fdca26"
             ],
             [
              1,
              "#f0f921"
             ]
            ],
            "type": "surface"
           }
          ],
          "table": [
           {
            "cells": {
             "fill": {
              "color": "#EBF0F8"
             },
             "line": {
              "color": "white"
             }
            },
            "header": {
             "fill": {
              "color": "#C8D4E3"
             },
             "line": {
              "color": "white"
             }
            },
            "type": "table"
           }
          ]
         },
         "layout": {
          "annotationdefaults": {
           "arrowcolor": "#2a3f5f",
           "arrowhead": 0,
           "arrowwidth": 1
          },
          "autotypenumbers": "strict",
          "coloraxis": {
           "colorbar": {
            "outlinewidth": 0,
            "ticks": ""
           }
          },
          "colorscale": {
           "diverging": [
            [
             0,
             "#8e0152"
            ],
            [
             0.1,
             "#c51b7d"
            ],
            [
             0.2,
             "#de77ae"
            ],
            [
             0.3,
             "#f1b6da"
            ],
            [
             0.4,
             "#fde0ef"
            ],
            [
             0.5,
             "#f7f7f7"
            ],
            [
             0.6,
             "#e6f5d0"
            ],
            [
             0.7,
             "#b8e186"
            ],
            [
             0.8,
             "#7fbc41"
            ],
            [
             0.9,
             "#4d9221"
            ],
            [
             1,
             "#276419"
            ]
           ],
           "sequential": [
            [
             0,
             "#0d0887"
            ],
            [
             0.1111111111111111,
             "#46039f"
            ],
            [
             0.2222222222222222,
             "#7201a8"
            ],
            [
             0.3333333333333333,
             "#9c179e"
            ],
            [
             0.4444444444444444,
             "#bd3786"
            ],
            [
             0.5555555555555556,
             "#d8576b"
            ],
            [
             0.6666666666666666,
             "#ed7953"
            ],
            [
             0.7777777777777778,
             "#fb9f3a"
            ],
            [
             0.8888888888888888,
             "#fdca26"
            ],
            [
             1,
             "#f0f921"
            ]
           ],
           "sequentialminus": [
            [
             0,
             "#0d0887"
            ],
            [
             0.1111111111111111,
             "#46039f"
            ],
            [
             0.2222222222222222,
             "#7201a8"
            ],
            [
             0.3333333333333333,
             "#9c179e"
            ],
            [
             0.4444444444444444,
             "#bd3786"
            ],
            [
             0.5555555555555556,
             "#d8576b"
            ],
            [
             0.6666666666666666,
             "#ed7953"
            ],
            [
             0.7777777777777778,
             "#fb9f3a"
            ],
            [
             0.8888888888888888,
             "#fdca26"
            ],
            [
             1,
             "#f0f921"
            ]
           ]
          },
          "colorway": [
           "#636efa",
           "#EF553B",
           "#00cc96",
           "#ab63fa",
           "#FFA15A",
           "#19d3f3",
           "#FF6692",
           "#B6E880",
           "#FF97FF",
           "#FECB52"
          ],
          "font": {
           "color": "#2a3f5f"
          },
          "geo": {
           "bgcolor": "white",
           "lakecolor": "white",
           "landcolor": "#E5ECF6",
           "showlakes": true,
           "showland": true,
           "subunitcolor": "white"
          },
          "hoverlabel": {
           "align": "left"
          },
          "hovermode": "closest",
          "mapbox": {
           "style": "light"
          },
          "paper_bgcolor": "white",
          "plot_bgcolor": "#E5ECF6",
          "polar": {
           "angularaxis": {
            "gridcolor": "white",
            "linecolor": "white",
            "ticks": ""
           },
           "bgcolor": "#E5ECF6",
           "radialaxis": {
            "gridcolor": "white",
            "linecolor": "white",
            "ticks": ""
           }
          },
          "scene": {
           "xaxis": {
            "backgroundcolor": "#E5ECF6",
            "gridcolor": "white",
            "gridwidth": 2,
            "linecolor": "white",
            "showbackground": true,
            "ticks": "",
            "zerolinecolor": "white"
           },
           "yaxis": {
            "backgroundcolor": "#E5ECF6",
            "gridcolor": "white",
            "gridwidth": 2,
            "linecolor": "white",
            "showbackground": true,
            "ticks": "",
            "zerolinecolor": "white"
           },
           "zaxis": {
            "backgroundcolor": "#E5ECF6",
            "gridcolor": "white",
            "gridwidth": 2,
            "linecolor": "white",
            "showbackground": true,
            "ticks": "",
            "zerolinecolor": "white"
           }
          },
          "shapedefaults": {
           "line": {
            "color": "#2a3f5f"
           }
          },
          "ternary": {
           "aaxis": {
            "gridcolor": "white",
            "linecolor": "white",
            "ticks": ""
           },
           "baxis": {
            "gridcolor": "white",
            "linecolor": "white",
            "ticks": ""
           },
           "bgcolor": "#E5ECF6",
           "caxis": {
            "gridcolor": "white",
            "linecolor": "white",
            "ticks": ""
           }
          },
          "title": {
           "x": 0.05
          },
          "xaxis": {
           "automargin": true,
           "gridcolor": "white",
           "linecolor": "white",
           "ticks": "",
           "title": {
            "standoff": 15
           },
           "zerolinecolor": "white",
           "zerolinewidth": 2
          },
          "yaxis": {
           "automargin": true,
           "gridcolor": "white",
           "linecolor": "white",
           "ticks": "",
           "title": {
            "standoff": 15
           },
           "zerolinecolor": "white",
           "zerolinewidth": 2
          }
         }
        },
        "title": {
         "text": "Triangle"
        }
       }
      }
     },
     "metadata": {},
     "output_type": "display_data"
    }
   ],
   "source": [
    "visualize_triangle(np.array([[0, 0.2, 0], [0, 0.2, 1], [0, 1.2, 0.5]]))"
   ]
  },
  {
   "cell_type": "code",
   "execution_count": 6,
   "metadata": {},
   "outputs": [
    {
     "data": {
      "application/vnd.plotly.v1+json": {
       "config": {
        "plotlyServerURL": "https://plot.ly"
       },
       "data": [
        {
         "mode": "lines+markers",
         "name": "❌ No intersection | Same plane Triangle 0",
         "scene": "scene",
         "type": "scatter3d",
         "x": [
          0,
          0,
          0,
          0
         ],
         "y": [
          0,
          0,
          1,
          0
         ],
         "z": [
          0,
          1,
          0,
          0
         ]
        },
        {
         "mode": "lines+markers",
         "name": "❌ No intersection | Same plane Triangle 1",
         "scene": "scene",
         "type": "scatter3d",
         "x": [
          0,
          0,
          0,
          0
         ],
         "y": [
          1,
          1,
          2,
          1
         ],
         "z": [
          1,
          2,
          1,
          1
         ]
        },
        {
         "mode": "lines+markers",
         "name": "❌ No intersection | Different plane Triangle 0",
         "scene": "scene2",
         "type": "scatter3d",
         "x": [
          0,
          0,
          0,
          0
         ],
         "y": [
          0,
          0,
          1,
          0
         ],
         "z": [
          0,
          1,
          0,
          0
         ]
        },
        {
         "mode": "lines+markers",
         "name": "❌ No intersection | Different plane Triangle 1",
         "scene": "scene2",
         "type": "scatter3d",
         "x": [
          1,
          1,
          1,
          1
         ],
         "y": [
          1,
          1,
          2,
          1
         ],
         "z": [
          1,
          2,
          1,
          1
         ]
        },
        {
         "mode": "lines+markers",
         "name": "✅ One same point | Same plane Triangle 0",
         "scene": "scene3",
         "type": "scatter3d",
         "x": [
          0,
          0,
          0,
          0
         ],
         "y": [
          0,
          0,
          1,
          0
         ],
         "z": [
          0,
          1,
          0,
          0
         ]
        },
        {
         "mode": "lines+markers",
         "name": "✅ One same point | Same plane Triangle 1",
         "scene": "scene3",
         "type": "scatter3d",
         "x": [
          0,
          0,
          0,
          0
         ],
         "y": [
          0,
          0,
          1,
          0
         ],
         "z": [
          1,
          2,
          1,
          1
         ]
        },
        {
         "mode": "lines+markers",
         "name": "✅ One same point | Different plane Triangle 0",
         "scene": "scene4",
         "type": "scatter3d",
         "x": [
          0,
          0,
          0,
          0
         ],
         "y": [
          0,
          0,
          1,
          0
         ],
         "z": [
          0,
          1,
          0,
          0
         ]
        },
        {
         "mode": "lines+markers",
         "name": "✅ One same point | Different plane Triangle 1",
         "scene": "scene4",
         "type": "scatter3d",
         "x": [
          0,
          1,
          1,
          0
         ],
         "y": [
          0,
          0,
          1,
          0
         ],
         "z": [
          1,
          1,
          1,
          1
         ]
        },
        {
         "mode": "lines+markers",
         "name": "✅ Same triangle | Same plane Triangle 0",
         "scene": "scene5",
         "type": "scatter3d",
         "x": [
          0,
          0,
          0,
          0
         ],
         "y": [
          0,
          0,
          1,
          0
         ],
         "z": [
          0,
          1,
          0,
          0
         ]
        },
        {
         "mode": "lines+markers",
         "name": "✅ Same triangle | Same plane Triangle 1",
         "scene": "scene5",
         "type": "scatter3d",
         "x": [
          0,
          0,
          0,
          0
         ],
         "y": [
          0,
          0,
          1,
          0
         ],
         "z": [
          0,
          1,
          0,
          0
         ]
        },
        {
         "mode": "lines+markers",
         "name": "✅ One point inside | Same plane Triangle 0",
         "scene": "scene6",
         "type": "scatter3d",
         "x": [
          0,
          0,
          0,
          0
         ],
         "y": [
          0,
          0,
          1,
          0
         ],
         "z": [
          0,
          1,
          0,
          0
         ]
        },
        {
         "mode": "lines+markers",
         "name": "✅ One point inside | Same plane Triangle 1",
         "scene": "scene6",
         "type": "scatter3d",
         "x": [
          0,
          0,
          0,
          0
         ],
         "y": [
          0.2,
          0.2,
          1.2,
          0.2
         ],
         "z": [
          0.2,
          1.2,
          0.2,
          0.2
         ]
        },
        {
         "mode": "lines+markers",
         "name": "✅ One point inside | Different plane Triangle 0",
         "scene": "scene7",
         "type": "scatter3d",
         "x": [
          0,
          0,
          0,
          0
         ],
         "y": [
          0,
          0,
          1,
          0
         ],
         "z": [
          0,
          1,
          0,
          0
         ]
        },
        {
         "mode": "lines+markers",
         "name": "✅ One point inside | Different plane Triangle 1",
         "scene": "scene7",
         "type": "scatter3d",
         "x": [
          0,
          1,
          1,
          0
         ],
         "y": [
          0.2,
          0.2,
          1.2,
          0.2
         ],
         "z": [
          0.2,
          1.2,
          0.2,
          0.2
         ]
        },
        {
         "mode": "lines+markers",
         "name": "✅ Two points inside | Same plane Triangle 0",
         "scene": "scene8",
         "type": "scatter3d",
         "x": [
          0,
          0,
          0,
          0
         ],
         "y": [
          0,
          0,
          1,
          0
         ],
         "z": [
          0,
          1,
          0,
          0
         ]
        },
        {
         "mode": "lines+markers",
         "name": "✅ Two points inside | Same plane Triangle 1",
         "scene": "scene8",
         "type": "scatter3d",
         "x": [
          0,
          0,
          0,
          0
         ],
         "y": [
          0.6,
          0.2,
          0.8,
          0.6
         ],
         "z": [
          0.2,
          0.6,
          0.8,
          0.2
         ]
        },
        {
         "mode": "lines+markers",
         "name": "✅ Two points inside | Differen plane Triangle 0",
         "scene": "scene9",
         "type": "scatter3d",
         "x": [
          0,
          0,
          0,
          0
         ],
         "y": [
          0,
          0,
          1,
          0
         ],
         "z": [
          0,
          1,
          0,
          0
         ]
        },
        {
         "mode": "lines+markers",
         "name": "✅ Two points inside | Differen plane Triangle 1",
         "scene": "scene9",
         "type": "scatter3d",
         "x": [
          0,
          0,
          1,
          0
         ],
         "y": [
          0.6,
          0.2,
          0.8,
          0.6
         ],
         "z": [
          0.2,
          0.6,
          0.8,
          0.2
         ]
        },
        {
         "mode": "lines+markers",
         "name": "✅ All points inside Triangle 0",
         "scene": "scene10",
         "type": "scatter3d",
         "x": [
          0,
          0,
          0,
          0
         ],
         "y": [
          0,
          0,
          1,
          0
         ],
         "z": [
          0,
          1,
          0,
          0
         ]
        },
        {
         "mode": "lines+markers",
         "name": "✅ All points inside Triangle 1",
         "scene": "scene10",
         "type": "scatter3d",
         "x": [
          0,
          0,
          0,
          0
         ],
         "y": [
          0.2,
          0.5,
          0.2,
          0.2
         ],
         "z": [
          0.2,
          0.2,
          0.5,
          0.2
         ]
        },
        {
         "mode": "lines+markers",
         "name": "✅ All points outside | Same plane Triangle 0",
         "scene": "scene11",
         "type": "scatter3d",
         "x": [
          0,
          0,
          0,
          0
         ],
         "y": [
          0,
          0.5,
          1,
          0
         ],
         "z": [
          0.2,
          1,
          0.2,
          0.2
         ]
        },
        {
         "mode": "lines+markers",
         "name": "✅ All points outside | Same plane Triangle 1",
         "scene": "scene11",
         "type": "scatter3d",
         "x": [
          0,
          0,
          0,
          0
         ],
         "y": [
          0,
          0.5,
          1,
          0
         ],
         "z": [
          0.8,
          0,
          0.8,
          0.8
         ]
        },
        {
         "mode": "lines+markers",
         "name": "✅ All points outside | Different plane Triangle 0",
         "scene": "scene12",
         "type": "scatter3d",
         "x": [
          0,
          0,
          0,
          0
         ],
         "y": [
          0,
          0.5,
          1,
          0
         ],
         "z": [
          0.2,
          1,
          0.2,
          0.2
         ]
        },
        {
         "mode": "lines+markers",
         "name": "✅ All points outside | Different plane Triangle 1",
         "scene": "scene12",
         "type": "scatter3d",
         "x": [
          0.2,
          -0.2,
          0.2,
          0.2
         ],
         "y": [
          0,
          0.5,
          1,
          0
         ],
         "z": [
          0.8,
          0,
          0.8,
          0.8
         ]
        }
       ],
       "layout": {
        "height": 1600,
        "scene": {
         "domain": {
          "x": [
           0,
           0.2125
          ],
          "y": [
           0.80625,
           1
          ]
         }
        },
        "scene10": {
         "domain": {
          "x": [
           0.2625,
           0.475
          ],
          "y": [
           0.26875,
           0.4625
          ]
         }
        },
        "scene11": {
         "domain": {
          "x": [
           0.525,
           0.7375
          ],
          "y": [
           0.26875,
           0.4625
          ]
         }
        },
        "scene12": {
         "domain": {
          "x": [
           0.7875,
           1
          ],
          "y": [
           0.26875,
           0.4625
          ]
         }
        },
        "scene13": {
         "domain": {
          "x": [
           0,
           0.2125
          ],
          "y": [
           0,
           0.19375
          ]
         }
        },
        "scene14": {
         "domain": {
          "x": [
           0.2625,
           0.475
          ],
          "y": [
           0,
           0.19375
          ]
         }
        },
        "scene15": {
         "domain": {
          "x": [
           0.525,
           0.7375
          ],
          "y": [
           0,
           0.19375
          ]
         }
        },
        "scene16": {
         "domain": {
          "x": [
           0.7875,
           1
          ],
          "y": [
           0,
           0.19375
          ]
         }
        },
        "scene2": {
         "domain": {
          "x": [
           0.2625,
           0.475
          ],
          "y": [
           0.80625,
           1
          ]
         }
        },
        "scene3": {
         "domain": {
          "x": [
           0.525,
           0.7375
          ],
          "y": [
           0.80625,
           1
          ]
         }
        },
        "scene4": {
         "domain": {
          "x": [
           0.7875,
           1
          ],
          "y": [
           0.80625,
           1
          ]
         }
        },
        "scene5": {
         "domain": {
          "x": [
           0,
           0.2125
          ],
          "y": [
           0.5375,
           0.73125
          ]
         }
        },
        "scene6": {
         "domain": {
          "x": [
           0.2625,
           0.475
          ],
          "y": [
           0.5375,
           0.73125
          ]
         }
        },
        "scene7": {
         "domain": {
          "x": [
           0.525,
           0.7375
          ],
          "y": [
           0.5375,
           0.73125
          ]
         }
        },
        "scene8": {
         "domain": {
          "x": [
           0.7875,
           1
          ],
          "y": [
           0.5375,
           0.73125
          ]
         }
        },
        "scene9": {
         "domain": {
          "x": [
           0,
           0.2125
          ],
          "y": [
           0.26875,
           0.4625
          ]
         }
        },
        "template": {
         "data": {
          "bar": [
           {
            "error_x": {
             "color": "#2a3f5f"
            },
            "error_y": {
             "color": "#2a3f5f"
            },
            "marker": {
             "line": {
              "color": "#E5ECF6",
              "width": 0.5
             },
             "pattern": {
              "fillmode": "overlay",
              "size": 10,
              "solidity": 0.2
             }
            },
            "type": "bar"
           }
          ],
          "barpolar": [
           {
            "marker": {
             "line": {
              "color": "#E5ECF6",
              "width": 0.5
             },
             "pattern": {
              "fillmode": "overlay",
              "size": 10,
              "solidity": 0.2
             }
            },
            "type": "barpolar"
           }
          ],
          "carpet": [
           {
            "aaxis": {
             "endlinecolor": "#2a3f5f",
             "gridcolor": "white",
             "linecolor": "white",
             "minorgridcolor": "white",
             "startlinecolor": "#2a3f5f"
            },
            "baxis": {
             "endlinecolor": "#2a3f5f",
             "gridcolor": "white",
             "linecolor": "white",
             "minorgridcolor": "white",
             "startlinecolor": "#2a3f5f"
            },
            "type": "carpet"
           }
          ],
          "choropleth": [
           {
            "colorbar": {
             "outlinewidth": 0,
             "ticks": ""
            },
            "type": "choropleth"
           }
          ],
          "contour": [
           {
            "colorbar": {
             "outlinewidth": 0,
             "ticks": ""
            },
            "colorscale": [
             [
              0,
              "#0d0887"
             ],
             [
              0.1111111111111111,
              "#46039f"
             ],
             [
              0.2222222222222222,
              "#7201a8"
             ],
             [
              0.3333333333333333,
              "#9c179e"
             ],
             [
              0.4444444444444444,
              "#bd3786"
             ],
             [
              0.5555555555555556,
              "#d8576b"
             ],
             [
              0.6666666666666666,
              "#ed7953"
             ],
             [
              0.7777777777777778,
              "#fb9f3a"
             ],
             [
              0.8888888888888888,
              "#fdca26"
             ],
             [
              1,
              "#f0f921"
             ]
            ],
            "type": "contour"
           }
          ],
          "contourcarpet": [
           {
            "colorbar": {
             "outlinewidth": 0,
             "ticks": ""
            },
            "type": "contourcarpet"
           }
          ],
          "heatmap": [
           {
            "colorbar": {
             "outlinewidth": 0,
             "ticks": ""
            },
            "colorscale": [
             [
              0,
              "#0d0887"
             ],
             [
              0.1111111111111111,
              "#46039f"
             ],
             [
              0.2222222222222222,
              "#7201a8"
             ],
             [
              0.3333333333333333,
              "#9c179e"
             ],
             [
              0.4444444444444444,
              "#bd3786"
             ],
             [
              0.5555555555555556,
              "#d8576b"
             ],
             [
              0.6666666666666666,
              "#ed7953"
             ],
             [
              0.7777777777777778,
              "#fb9f3a"
             ],
             [
              0.8888888888888888,
              "#fdca26"
             ],
             [
              1,
              "#f0f921"
             ]
            ],
            "type": "heatmap"
           }
          ],
          "heatmapgl": [
           {
            "colorbar": {
             "outlinewidth": 0,
             "ticks": ""
            },
            "colorscale": [
             [
              0,
              "#0d0887"
             ],
             [
              0.1111111111111111,
              "#46039f"
             ],
             [
              0.2222222222222222,
              "#7201a8"
             ],
             [
              0.3333333333333333,
              "#9c179e"
             ],
             [
              0.4444444444444444,
              "#bd3786"
             ],
             [
              0.5555555555555556,
              "#d8576b"
             ],
             [
              0.6666666666666666,
              "#ed7953"
             ],
             [
              0.7777777777777778,
              "#fb9f3a"
             ],
             [
              0.8888888888888888,
              "#fdca26"
             ],
             [
              1,
              "#f0f921"
             ]
            ],
            "type": "heatmapgl"
           }
          ],
          "histogram": [
           {
            "marker": {
             "pattern": {
              "fillmode": "overlay",
              "size": 10,
              "solidity": 0.2
             }
            },
            "type": "histogram"
           }
          ],
          "histogram2d": [
           {
            "colorbar": {
             "outlinewidth": 0,
             "ticks": ""
            },
            "colorscale": [
             [
              0,
              "#0d0887"
             ],
             [
              0.1111111111111111,
              "#46039f"
             ],
             [
              0.2222222222222222,
              "#7201a8"
             ],
             [
              0.3333333333333333,
              "#9c179e"
             ],
             [
              0.4444444444444444,
              "#bd3786"
             ],
             [
              0.5555555555555556,
              "#d8576b"
             ],
             [
              0.6666666666666666,
              "#ed7953"
             ],
             [
              0.7777777777777778,
              "#fb9f3a"
             ],
             [
              0.8888888888888888,
              "#fdca26"
             ],
             [
              1,
              "#f0f921"
             ]
            ],
            "type": "histogram2d"
           }
          ],
          "histogram2dcontour": [
           {
            "colorbar": {
             "outlinewidth": 0,
             "ticks": ""
            },
            "colorscale": [
             [
              0,
              "#0d0887"
             ],
             [
              0.1111111111111111,
              "#46039f"
             ],
             [
              0.2222222222222222,
              "#7201a8"
             ],
             [
              0.3333333333333333,
              "#9c179e"
             ],
             [
              0.4444444444444444,
              "#bd3786"
             ],
             [
              0.5555555555555556,
              "#d8576b"
             ],
             [
              0.6666666666666666,
              "#ed7953"
             ],
             [
              0.7777777777777778,
              "#fb9f3a"
             ],
             [
              0.8888888888888888,
              "#fdca26"
             ],
             [
              1,
              "#f0f921"
             ]
            ],
            "type": "histogram2dcontour"
           }
          ],
          "mesh3d": [
           {
            "colorbar": {
             "outlinewidth": 0,
             "ticks": ""
            },
            "type": "mesh3d"
           }
          ],
          "parcoords": [
           {
            "line": {
             "colorbar": {
              "outlinewidth": 0,
              "ticks": ""
             }
            },
            "type": "parcoords"
           }
          ],
          "pie": [
           {
            "automargin": true,
            "type": "pie"
           }
          ],
          "scatter": [
           {
            "fillpattern": {
             "fillmode": "overlay",
             "size": 10,
             "solidity": 0.2
            },
            "type": "scatter"
           }
          ],
          "scatter3d": [
           {
            "line": {
             "colorbar": {
              "outlinewidth": 0,
              "ticks": ""
             }
            },
            "marker": {
             "colorbar": {
              "outlinewidth": 0,
              "ticks": ""
             }
            },
            "type": "scatter3d"
           }
          ],
          "scattercarpet": [
           {
            "marker": {
             "colorbar": {
              "outlinewidth": 0,
              "ticks": ""
             }
            },
            "type": "scattercarpet"
           }
          ],
          "scattergeo": [
           {
            "marker": {
             "colorbar": {
              "outlinewidth": 0,
              "ticks": ""
             }
            },
            "type": "scattergeo"
           }
          ],
          "scattergl": [
           {
            "marker": {
             "colorbar": {
              "outlinewidth": 0,
              "ticks": ""
             }
            },
            "type": "scattergl"
           }
          ],
          "scattermapbox": [
           {
            "marker": {
             "colorbar": {
              "outlinewidth": 0,
              "ticks": ""
             }
            },
            "type": "scattermapbox"
           }
          ],
          "scatterpolar": [
           {
            "marker": {
             "colorbar": {
              "outlinewidth": 0,
              "ticks": ""
             }
            },
            "type": "scatterpolar"
           }
          ],
          "scatterpolargl": [
           {
            "marker": {
             "colorbar": {
              "outlinewidth": 0,
              "ticks": ""
             }
            },
            "type": "scatterpolargl"
           }
          ],
          "scatterternary": [
           {
            "marker": {
             "colorbar": {
              "outlinewidth": 0,
              "ticks": ""
             }
            },
            "type": "scatterternary"
           }
          ],
          "surface": [
           {
            "colorbar": {
             "outlinewidth": 0,
             "ticks": ""
            },
            "colorscale": [
             [
              0,
              "#0d0887"
             ],
             [
              0.1111111111111111,
              "#46039f"
             ],
             [
              0.2222222222222222,
              "#7201a8"
             ],
             [
              0.3333333333333333,
              "#9c179e"
             ],
             [
              0.4444444444444444,
              "#bd3786"
             ],
             [
              0.5555555555555556,
              "#d8576b"
             ],
             [
              0.6666666666666666,
              "#ed7953"
             ],
             [
              0.7777777777777778,
              "#fb9f3a"
             ],
             [
              0.8888888888888888,
              "#fdca26"
             ],
             [
              1,
              "#f0f921"
             ]
            ],
            "type": "surface"
           }
          ],
          "table": [
           {
            "cells": {
             "fill": {
              "color": "#EBF0F8"
             },
             "line": {
              "color": "white"
             }
            },
            "header": {
             "fill": {
              "color": "#C8D4E3"
             },
             "line": {
              "color": "white"
             }
            },
            "type": "table"
           }
          ]
         },
         "layout": {
          "annotationdefaults": {
           "arrowcolor": "#2a3f5f",
           "arrowhead": 0,
           "arrowwidth": 1
          },
          "autotypenumbers": "strict",
          "coloraxis": {
           "colorbar": {
            "outlinewidth": 0,
            "ticks": ""
           }
          },
          "colorscale": {
           "diverging": [
            [
             0,
             "#8e0152"
            ],
            [
             0.1,
             "#c51b7d"
            ],
            [
             0.2,
             "#de77ae"
            ],
            [
             0.3,
             "#f1b6da"
            ],
            [
             0.4,
             "#fde0ef"
            ],
            [
             0.5,
             "#f7f7f7"
            ],
            [
             0.6,
             "#e6f5d0"
            ],
            [
             0.7,
             "#b8e186"
            ],
            [
             0.8,
             "#7fbc41"
            ],
            [
             0.9,
             "#4d9221"
            ],
            [
             1,
             "#276419"
            ]
           ],
           "sequential": [
            [
             0,
             "#0d0887"
            ],
            [
             0.1111111111111111,
             "#46039f"
            ],
            [
             0.2222222222222222,
             "#7201a8"
            ],
            [
             0.3333333333333333,
             "#9c179e"
            ],
            [
             0.4444444444444444,
             "#bd3786"
            ],
            [
             0.5555555555555556,
             "#d8576b"
            ],
            [
             0.6666666666666666,
             "#ed7953"
            ],
            [
             0.7777777777777778,
             "#fb9f3a"
            ],
            [
             0.8888888888888888,
             "#fdca26"
            ],
            [
             1,
             "#f0f921"
            ]
           ],
           "sequentialminus": [
            [
             0,
             "#0d0887"
            ],
            [
             0.1111111111111111,
             "#46039f"
            ],
            [
             0.2222222222222222,
             "#7201a8"
            ],
            [
             0.3333333333333333,
             "#9c179e"
            ],
            [
             0.4444444444444444,
             "#bd3786"
            ],
            [
             0.5555555555555556,
             "#d8576b"
            ],
            [
             0.6666666666666666,
             "#ed7953"
            ],
            [
             0.7777777777777778,
             "#fb9f3a"
            ],
            [
             0.8888888888888888,
             "#fdca26"
            ],
            [
             1,
             "#f0f921"
            ]
           ]
          },
          "colorway": [
           "#636efa",
           "#EF553B",
           "#00cc96",
           "#ab63fa",
           "#FFA15A",
           "#19d3f3",
           "#FF6692",
           "#B6E880",
           "#FF97FF",
           "#FECB52"
          ],
          "font": {
           "color": "#2a3f5f"
          },
          "geo": {
           "bgcolor": "white",
           "lakecolor": "white",
           "landcolor": "#E5ECF6",
           "showlakes": true,
           "showland": true,
           "subunitcolor": "white"
          },
          "hoverlabel": {
           "align": "left"
          },
          "hovermode": "closest",
          "mapbox": {
           "style": "light"
          },
          "paper_bgcolor": "white",
          "plot_bgcolor": "#E5ECF6",
          "polar": {
           "angularaxis": {
            "gridcolor": "white",
            "linecolor": "white",
            "ticks": ""
           },
           "bgcolor": "#E5ECF6",
           "radialaxis": {
            "gridcolor": "white",
            "linecolor": "white",
            "ticks": ""
           }
          },
          "scene": {
           "xaxis": {
            "backgroundcolor": "#E5ECF6",
            "gridcolor": "white",
            "gridwidth": 2,
            "linecolor": "white",
            "showbackground": true,
            "ticks": "",
            "zerolinecolor": "white"
           },
           "yaxis": {
            "backgroundcolor": "#E5ECF6",
            "gridcolor": "white",
            "gridwidth": 2,
            "linecolor": "white",
            "showbackground": true,
            "ticks": "",
            "zerolinecolor": "white"
           },
           "zaxis": {
            "backgroundcolor": "#E5ECF6",
            "gridcolor": "white",
            "gridwidth": 2,
            "linecolor": "white",
            "showbackground": true,
            "ticks": "",
            "zerolinecolor": "white"
           }
          },
          "shapedefaults": {
           "line": {
            "color": "#2a3f5f"
           }
          },
          "ternary": {
           "aaxis": {
            "gridcolor": "white",
            "linecolor": "white",
            "ticks": ""
           },
           "baxis": {
            "gridcolor": "white",
            "linecolor": "white",
            "ticks": ""
           },
           "bgcolor": "#E5ECF6",
           "caxis": {
            "gridcolor": "white",
            "linecolor": "white",
            "ticks": ""
           }
          },
          "title": {
           "x": 0.05
          },
          "xaxis": {
           "automargin": true,
           "gridcolor": "white",
           "linecolor": "white",
           "ticks": "",
           "title": {
            "standoff": 15
           },
           "zerolinecolor": "white",
           "zerolinewidth": 2
          },
          "yaxis": {
           "automargin": true,
           "gridcolor": "white",
           "linecolor": "white",
           "ticks": "",
           "title": {
            "standoff": 15
           },
           "zerolinecolor": "white",
           "zerolinewidth": 2
          }
         }
        },
        "width": 1600
       }
      }
     },
     "metadata": {},
     "output_type": "display_data"
    }
   ],
   "source": [
    "test_sat = [\n",
    "    [\n",
    "        np.array([[0, 0, 0], [0, 0, 1], [0, 1, 0]]),\n",
    "        np.array([[0, 1, 1], [0, 1, 2], [0, 2, 1]]),\n",
    "        \"❌ No intersection | Same plane\",\n",
    "    ],\n",
    "    [\n",
    "        np.array([[0, 0, 0], [0, 0, 1], [0, 1, 0]]),\n",
    "        np.array([[1, 1, 1], [1, 1, 2], [1, 2, 1]]),\n",
    "        \"❌ No intersection | Different plane\",\n",
    "    ],\n",
    "    [\n",
    "        np.array([[0, 0, 0], [0, 0, 1], [0, 1, 0]]),\n",
    "        np.array([[0, 0, 1], [0, 0, 2], [0, 1, 1]]),\n",
    "        \"✅ One same point | Same plane\",\n",
    "    ],\n",
    "    [\n",
    "        np.array([[0, 0, 0], [0, 0, 1], [0, 1, 0]]),\n",
    "        np.array([[0, 0, 1], [1, 0, 1], [1, 1, 1]]),\n",
    "        \"✅ One same point | Different plane\",\n",
    "    ],\n",
    "    [\n",
    "        np.array([[0, 0, 0], [0, 0, 1], [0, 1, 0]]),\n",
    "        np.array([[0, 0, 0], [0, 0, 1], [0, 1, 0]]),\n",
    "        \"✅ Same triangle | Same plane\",\n",
    "    ],\n",
    "    [\n",
    "        np.array([[0, 0, 0], [0, 0, 1], [0, 1, 0]]),\n",
    "        np.array([[0, 0.2, 0.2], [0, 0.2, 1.2], [0, 1.2, 0.2]]),\n",
    "        \"✅ One point inside | Same plane\",\n",
    "    ],\n",
    "    [\n",
    "        np.array([[0, 0, 0], [0, 0, 1], [0, 1, 0]]),\n",
    "        np.array([[0, 0.2, 0.2], [1, 0.2, 1.2], [1, 1.2, 0.2]]),\n",
    "        \"✅ One point inside | Different plane\",\n",
    "    ],\n",
    "    [\n",
    "        np.array([[0, 0, 0], [0, 0, 1], [0, 1, 0]]),\n",
    "        np.array([[0, 0.6, 0.2], [0, 0.2, 0.6], [0, 0.8, 0.8]]),\n",
    "        \"✅ Two points inside | Same plane\",\n",
    "    ],\n",
    "    [\n",
    "        np.array([[0, 0, 0], [0, 0, 1], [0, 1, 0]]),\n",
    "        np.array([[0, 0.6, 0.2], [0, 0.2, 0.6], [1, 0.8, 0.8]]),\n",
    "        \"✅ Two points inside | Differen plane\",\n",
    "    ],\n",
    "    [\n",
    "        np.array([[0, 0, 0], [0, 0, 1], [0, 1, 0]]),\n",
    "        np.array(\n",
    "            [\n",
    "                [0, 0.2, 0.2],\n",
    "                [0, 0.5, 0.2],\n",
    "                [0, 0.2, 0.5],\n",
    "            ]\n",
    "        ),\n",
    "        \"✅ All points inside\",\n",
    "    ],\n",
    "    [\n",
    "        np.array([[0, 0, 0.2], [0, 0.5, 1], [0, 1, 0.2]]),\n",
    "        np.array([[0, 0, 0.8], [0, 0.5, 0], [0, 1, 0.8]]),\n",
    "        \"✅ All points outside | Same plane\",\n",
    "    ],\n",
    "    [\n",
    "        np.array([[0, 0, 0.2], [0, 0.5, 1], [0, 1, 0.2]]),\n",
    "        np.array([[0.2, 0, 0.8], [-0.2, 0.5, 0], [0.2, 1, 0.8]]),\n",
    "        \"✅ All points outside | Different plane\",\n",
    "    ],\n",
    "]\n",
    "\n",
    "visualize_triangle_grid(test_sat)"
   ]
  },
  {
   "cell_type": "code",
   "execution_count": 7,
   "metadata": {},
   "outputs": [],
   "source": [
    "import numpy as np\n",
    "\n",
    "\n",
    "def triangle_normal(a, b, c):\n",
    "    \"\"\"\n",
    "    Compute the normal of a triangle given its three vertices.\n",
    "    \"\"\"\n",
    "    return np.cross(b - a, c - a)\n",
    "\n",
    "\n",
    "def project(vertices, axis):\n",
    "    \"\"\"\n",
    "    Project vertices on an axis.\n",
    "    \"\"\"\n",
    "    return np.dot(vertices, axis)\n",
    "\n",
    "\n",
    "def overlap(p1, p2):\n",
    "    \"\"\"\n",
    "    Check if 1-dimensional projections overlap.\n",
    "    \"\"\"\n",
    "    return np.max(p1) >= np.min(p2) and np.max(p2) >= np.min(p1)\n",
    "\n",
    "\n",
    "def separating_axis_theorem(triangle1, triangle2):\n",
    "    \"\"\"\n",
    "    Implement SAT collision detection between two triangles.\n",
    "    \"\"\"\n",
    "    # Compute triangle normals\n",
    "    n1 = triangle_normal(*triangle1)\n",
    "    n2 = triangle_normal(*triangle2)\n",
    "\n",
    "    # Store triangle vertices\n",
    "    vertices1 = triangle1\n",
    "    vertices2 = triangle2\n",
    "\n",
    "    # Test axes of the first triangle\n",
    "    for i in range(3):\n",
    "        axis = np.cross(n1, vertices1[i] - vertices1[(i + 1) % 3])\n",
    "        p1 = project(vertices1, axis)\n",
    "        p2 = project(vertices2, axis)\n",
    "        if not overlap(p1, p2):\n",
    "            return False\n",
    "\n",
    "    # Test axes of the second triangle\n",
    "    for i in range(3):\n",
    "        axis = np.cross(n2, vertices2[i] - vertices2[(i + 1) % 3])\n",
    "        p1 = project(vertices1, axis)\n",
    "        p2 = project(vertices2, axis)\n",
    "        if not overlap(p1, p2):\n",
    "            return False\n",
    "\n",
    "    # Test axis of both triangles normals\n",
    "    axis = np.cross(n1, n2)\n",
    "    p1 = project(vertices1, axis)\n",
    "    p2 = project(vertices2, axis)\n",
    "    if not overlap(p1, p2):\n",
    "        return False\n",
    "\n",
    "    # All separating axes failed, therefore the triangles intersect\n",
    "    return True"
   ]
  },
  {
   "cell_type": "code",
   "execution_count": 8,
   "metadata": {},
   "outputs": [
    {
     "name": "stdout",
     "output_type": "stream",
     "text": [
      "❌ | ❌\n",
      "❌ | ❌\n",
      "✅ | ✅\n",
      "✅ | ✅\n",
      "✅ | ✅\n",
      "✅ | ✅\n",
      "✅ | ✅\n",
      "✅ | ✅\n",
      "✅ | ✅\n",
      "✅ | ✅\n",
      "✅ | ✅\n",
      "✅ | ✅\n"
     ]
    }
   ],
   "source": [
    "# triangle1 = np.array([[0, 0, 0], [0, 0, 1], [0, 1, 0]])\n",
    "# triangle2 = np.array([[0, 0, 1], [1, 0, 1], [1, 1, 1]])\n",
    "\n",
    "# print(separating_axis_theorem(triangle1, triangle2))  # Output: True\n",
    "\n",
    "for case in test_sat:\n",
    "    if separating_axis_theorem(case[0], case[1]) == True:\n",
    "        print(f\"✅ | {case[2][0]}\")\n",
    "    else:\n",
    "        print(f\"❌ | {case[2][0]}\")"
   ]
  },
  {
   "cell_type": "code",
   "execution_count": null,
   "metadata": {},
   "outputs": [],
   "source": []
  }
 ],
 "metadata": {
  "kernelspec": {
   "display_name": ".venv",
   "language": "python",
   "name": "python3"
  },
  "language_info": {
   "codemirror_mode": {
    "name": "ipython",
    "version": 3
   },
   "file_extension": ".py",
   "mimetype": "text/x-python",
   "name": "python",
   "nbconvert_exporter": "python",
   "pygments_lexer": "ipython3",
   "version": "3.11.2"
  },
  "orig_nbformat": 4
 },
 "nbformat": 4,
 "nbformat_minor": 2
}
